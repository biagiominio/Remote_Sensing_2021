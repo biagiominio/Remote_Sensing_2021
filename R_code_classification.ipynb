{
  "nbformat": 4,
  "nbformat_minor": 0,
  "metadata": {
    "colab": {
      "name": "R_code_classification.ipynb",
      "provenance": [],
      "authorship_tag": "ABX9TyPMuQiSQ7+lSiPARpE5oMm1"
    },
    "kernelspec": {
      "name": "ir",
      "display_name": "R"
    },
    "language_info": {
      "name": "R"
    }
  },
  "cells": [
    {
      "cell_type": "markdown",
      "metadata": {
        "id": "WfzIAI-J6TEO"
      },
      "source": [
        "<table class=\"ee-notebook-buttons\" align=\"left\"><td>\n",
        "<a target=\"_blank\"  href=\"https://colab.research.google.com/drive/1kseAnLcIDHDlO8OyLutzehCQoY41k3Bb#scrollTo=WfzIAI-J6TEO\">\n",
        "    <img src=\"https://www.tensorflow.org/images/colab_logo_32px.png\" /> Run in Google Colab</a>\n",
        "</td><td>\n",
        "<a target=\"_blank\"  href=\"https://github.com/biagiominio/Remote_sensing_2021/blob/main/R_code_classification.ipynb\"><img width=32px src=\"https://www.tensorflow.org/images/GitHub-Mark-32px.png\" /> View source on GitHub</a></td></table>"
      ]
    },
    {
      "cell_type": "code",
      "metadata": {
        "id": "er2BO2Skskxj"
      },
      "source": [
        "url = \"https://www.esa.int/var/esa/storage/images/esa_multimedia/images/2020/07/solar_orbiter_s_first_view_of_the_sun2/22133123-1-eng-GB/Solar_Orbiter_s_first_view_of_the_Sun.png\""
      ],
      "execution_count": null,
      "outputs": []
    },
    {
      "cell_type": "code",
      "metadata": {
        "id": "umjYjLBszxpR"
      },
      "source": [
        "library(raster)\n",
        "library(RStoolbox)"
      ],
      "execution_count": null,
      "outputs": []
    },
    {
      "cell_type": "code",
      "metadata": {
        "id": "ytHz74T9z53E"
      },
      "source": [
        "so <- brick(\"Solar_Orbiter_s_first_views_of_the_Sun_pillars.jpg\")\n",
        "so"
      ],
      "execution_count": null,
      "outputs": []
    },
    {
      "cell_type": "code",
      "metadata": {
        "id": "PB9Vex7Dz84h"
      },
      "source": [
        "plotRGB(so, 1,2,3, stretch=\"lin\")\n"
      ],
      "execution_count": null,
      "outputs": []
    },
    {
      "cell_type": "code",
      "metadata": {
        "id": "3fN6LEbk0Aqv"
      },
      "source": [
        "soc <- unsuperClass(so, nClasses=3)\n",
        "plot(soc$map)\n"
      ],
      "execution_count": null,
      "outputs": []
    },
    {
      "cell_type": "code",
      "metadata": {
        "id": "-1mW7qta0DtD"
      },
      "source": [
        "soc20 <- unsuperClass(so, nClasses=20)\n",
        "plot(soc20$map,col=cl)"
      ],
      "execution_count": null,
      "outputs": []
    },
    {
      "cell_type": "code",
      "metadata": {
        "id": "e_9rbl7S0GBm"
      },
      "source": [
        "cl <- colorRampPalette(c('yellow','black','red'))(100)\n",
        "plot(soc20$map,col=cl)\n"
      ],
      "execution_count": null,
      "outputs": []
    },
    {
      "cell_type": "markdown",
      "metadata": {
        "id": "hkdNeOHn0MDb"
      },
      "source": [
        "Download Solar Orbiter data and proceed further!\n",
        "Grand Canyon\n",
        "https://landsat.visibleearth.nasa.gov/view.php?id=80948\n",
        "When John Wesley Powell led an expedition down the Colorado River and through the Grand Canyon in 1869,"
      ]
    },
    {
      "cell_type": "code",
      "metadata": {
        "id": "FvJ0Zbx78ZFA"
      },
      "source": [
        "url = \"https://eoimages.gsfc.nasa.gov/images/imagerecords/80000/80948/dolansprings_oli_2013088_canyon_lrg.jpg\""
      ],
      "execution_count": null,
      "outputs": []
    },
    {
      "cell_type": "code",
      "metadata": {
        "id": "4z3POkN40SrK"
      },
      "source": [
        "gc <- brick(\"dolansprings_oli_2013088_canyon_lrg.jpg\")\n",
        "plotRGB(gc, r=1, g=2, b=3, stretch=\"lin\")\n"
      ],
      "execution_count": null,
      "outputs": []
    },
    {
      "cell_type": "code",
      "metadata": {
        "id": "1vNn9R_A0V-M"
      },
      "source": [
        "plotRGB(gc, r=1, g=2, b=3, stretch=\"hist\")"
      ],
      "execution_count": null,
      "outputs": []
    },
    {
      "cell_type": "code",
      "metadata": {
        "id": "rjZL0_gf0Yr8"
      },
      "source": [
        "gcc2 <- unsuperClass(gc, nClasses=2)\n",
        "gcc2\n"
      ],
      "execution_count": null,
      "outputs": []
    },
    {
      "cell_type": "code",
      "metadata": {
        "id": "j51sIJpk0a7X"
      },
      "source": [
        "plot(gcc2$map)\n"
      ],
      "execution_count": null,
      "outputs": []
    },
    {
      "cell_type": "code",
      "metadata": {
        "id": "GNx8le-U0dNO"
      },
      "source": [
        "gcc4 <- unsuperClass(gc, nClasses=4)\n",
        "plot(gcc4$map)\n"
      ],
      "execution_count": null,
      "outputs": []
    }
  ]
}