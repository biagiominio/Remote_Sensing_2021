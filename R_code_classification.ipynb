{
  "nbformat": 4,
  "nbformat_minor": 0,
  "metadata": {
    "colab": {
      "name": "R_code_classification.ipynb",
      "provenance": [],
      "authorship_tag": "ABX9TyOQBOIOi+cPbuj6tkut6t3+"
    },
    "kernelspec": {
      "name": "ir",
      "display_name": "R"
    },
    "language_info": {
      "name": "R"
    }
  },
  "cells": [
    {
      "cell_type": "markdown",
      "metadata": {
        "id": "WfzIAI-J6TEO"
      },
      "source": [
        "<table class=\"ee-notebook-buttons\" align=\"left\"><td>\n",
        "<a target=\"_blank\"  href=\"https://colab.research.google.com/github/biagiominio/Remote_sensing_2021/blob/main/R_code_classification.ipynb\">\n",
        "    <img src=\"https://www.tensorflow.org/images/colab_logo_32px.png\" /> Run in Google Colab</a>\n",
        "</td><td>\n",
        "<a target=\"_blank\"  href=\"https://github.com/biagiominio/Remote_sensing_2021/blob/main/R_code_classification.ipynb\"><img width=32px src=\"https://www.tensorflow.org/images/GitHub-Mark-32px.png\" /> View source on GitHub</a></td></table>"
      ]
    },
    {
      "cell_type": "markdown",
      "metadata": {
        "id": "_UkpOdo-8YBw"
      },
      "source": [
        "# Image Classification\n",
        "The classification of remotely sensed images consists in associating each pixel of the image with a specific class or category (e.g. grassland, forest, water, soil, etc.).\n",
        "Identification occurs through a process in which the degree of spectral similarity or association is high between pixels of the same category and low between pixels of distinct categories.\n",
        "> For this first application of the classification methods we use two sets of images: \n",
        "* the recent images of [Solar Orbiter](http://www.esa.int/Science_Exploration/Space_Science/Solar_Orbiter) with different energy classes of the solar surface;\n",
        "* and the Landsat images of the [Grand Canyon](https://landsat.visibleearth.nasa.gov/view.php?id=80948) with different morphologies and types of rocks."
      ]
    },
    {
      "cell_type": "code",
      "metadata": {
        "id": "sIBZqCaW5Xuz"
      },
      "source": [
        "solar_orbiter_url <- \"https://www.esa.int/var/esa/storage/images/esa_multimedia/images/2020/07/solar_orbiter_s_first_views_of_the_sun4/22133246-1-eng-GB/Solar_Orbiter_s_first_views_of_the_Sun.jpg\"\n",
        "grand_canyon_url <- \"https://eoimages.gsfc.nasa.gov/images/imagerecords/80000/80948/dolansprings_oli_2013088_canyon_lrg.jpg\""
      ],
      "execution_count": 6,
      "outputs": []
    },
    {
      "cell_type": "markdown",
      "metadata": {
        "id": "CWcyue8oJuZe"
      },
      "source": [
        "The [download.file](https://www.rdocumentation.org/packages/utils/versions/3.6.2/topics/download.file) function can be used to download a file from the Internet. \n",
        "```\n",
        "download.file(url, destfile)\n",
        "```\n",
        "In the function the `url` argument sets the resource to be downloaded and the `destfile` a character string with which the downloaded file is named."
      ]
    },
    {
      "cell_type": "code",
      "metadata": {
        "id": "2VwQSAU5NkR_"
      },
      "source": [
        "download.file(solar_orbiter_url, \"Solar_Orbiter.jpg\")\n",
        "download.file(grand_canyon_url, \"Grand_Canyon.jpg\")"
      ],
      "execution_count": 7,
      "outputs": []
    },
    {
      "cell_type": "markdown",
      "metadata": {
        "id": "aUjXwyfVb_jM"
      },
      "source": [
        "### Install R packages\n",
        "The [install.packages](https://www.rdocumentation.org/packages/utils/versions/3.6.2/topics/install.packages) function is used to download and install packages from CRAN-like repositories.\n",
        "To install multiple packages at the same time, you define a vector that contains the names of the packages to be installed.\n",
        "The [raster](https://www.rdocumentation.org/packages/raster/versions/3.4-10) package defines classes and methods for spatial raster data access and manipulation. \n",
        "[RStoolbox](https://www.rdocumentation.org/packages/RStoolbox/versions/0.2.6) is an package providing a wide range of tools for your every-day remote sensing processing needs. The available tool-set covers many aspects for remote sensing image processing and analysis such as calculating spectral indices, principal component transformation, unsupervised and supervised classification or fractional cover analyses."
      ]
    },
    {
      "cell_type": "code",
      "metadata": {
        "id": "l10HaqN7AZAT"
      },
      "source": [
        "packages <- c(\"raster\", \"RStoolbox\")\n",
        "install.packages(packages)"
      ],
      "execution_count": null,
      "outputs": []
    },
    {
      "cell_type": "markdown",
      "metadata": {
        "id": "HivL27NllC4t"
      },
      "source": [
        "The [library](https://www.rdocumentation.org/packages/base/versions/3.6.2/topics/library) function is used to load previously installed packages.\n",
        "Using the [lapply](https://www.rdocumentation.org/packages/base/versions/3.6.2/topics/lapply) function we simultaneously apply the `library()` function to all elements of the vector containing the packages."
      ]
    },
    {
      "cell_type": "code",
      "metadata": {
        "id": "PTJfZZmyt8Gi"
      },
      "source": [
        "lapply(packages , library, character.only = TRUE)"
      ],
      "execution_count": null,
      "outputs": []
    },
    {
      "cell_type": "markdown",
      "metadata": {
        "id": "ekTABHwdBHtl"
      },
      "source": [
        "## Solar Orbiter\n",
        "During the seven-year mission, instruments aboard the spacecraft will measure solar wind plasma, electromagnetic fields, and energetic particles in an area close enough to the sun. Remote sensing tools, on the other hand, will send spectacular images of solar characteristics with a resolution never achieved before and provide new information on what determines the cyclicality of sunspots and the onset of flares."
      ]
    },
    {
      "cell_type": "markdown",
      "metadata": {
        "id": "Cz0OtbKUou7x"
      },
      "source": [
        "### Reading spatial data\n",
        "To read and view a multilevel object it is common to use the [brick](https://www.rdocumentation.org/packages/raster/versions/3.4-5/topics/brick) function (RasterBrick object). \n",
        "Explore the properties of the `solar_orbiter` object."
      ]
    },
    {
      "cell_type": "code",
      "metadata": {
        "id": "ytHz74T9z53E"
      },
      "source": [
        "solar_orbiter <- raster::brick(\"Solar_Orbiter.jpg\")\n",
        "solar_orbiter"
      ],
      "execution_count": null,
      "outputs": []
    },
    {
      "cell_type": "markdown",
      "metadata": {
        "id": "PON7qgfLRyY_"
      },
      "source": [
        "### Visualization of spatial data\n",
        "Several generic functions have been implemented for \"raster\" objects to create maps and other plot types. For example, use [plot](https://www.rdocumentation.org/packages/raster/versions/3.4-5/topics/plot) function to create a map of a raster object.\n",
        "In addition, individual bands can be combined into a single image by assigning individual layers or bands to one of the three color channels (red, green and blue). \n",
        "The [plotRGB](https://www.rdocumentation.org/packages/raster/versions/3.4-5/topics/plotRGB) function can be used to make \"true (or false) color images\" from multi-band satellite images.\n",
        "In this case, the resulting color tone in the image will be linked to the combination of the different energy values of the solar surface.\n"
      ]
    },
    {
      "cell_type": "code",
      "metadata": {
        "id": "PB9Vex7Dz84h"
      },
      "source": [
        "plotRGB(solar_orbiter, 1,2,3, stretch=\"lin\")"
      ],
      "execution_count": null,
      "outputs": []
    },
    {
      "cell_type": "markdown",
      "metadata": {
        "id": "7Y1JQAcB8WDz"
      },
      "source": [
        "### Unsupervised clustering\n",
        "[K-means](https://en.wikipedia.org/wiki/K-means_clustering) clustering is one of the simplest and popular unsupervised learning algorithms.\n",
        "Typically, unsupervised algorithms make inferences from datasets using only input vectors without referring to known, or labeled, outcomes.\n",
        "\n",
        "The `RStoolbox` package provides the [unsuperClass](https://www.rdocumentation.org/packages/RStoolbox/versions/0.2.6/topics/unsuperClass) function which allows you to apply the k-means algorithm to any Raster Object.\n",
        "\n",
        "Furthermore, by setting the same seed with the [set.seed](https://www.rdocumentation.org/packages/simEd/versions/2.0.0/topics/set.seed) function (a random number generator) we always select the same initial pixels during the construction phase of the n-clusters in order to always show the same output.\n"
      ]
    },
    {
      "cell_type": "code",
      "metadata": {
        "id": "3fN6LEbk0Aqv"
      },
      "source": [
        "set.seed(1234)\n",
        "solar_orbiter_class6 <- RStoolbox::unsuperClass(solar_orbiter, nClasses=6)"
      ],
      "execution_count": 11,
      "outputs": []
    },
    {
      "cell_type": "markdown",
      "metadata": {
        "id": "Epfv0rOP6Qrb"
      },
      "source": [
        "### Colour change\n",
        "Use function [colorRampPalette](https://www.rdocumentation.org/packages/dichromat/versions/1.1/topics/colorRampPalette) to create a continuous color scale divided into n-levels or classes."
      ]
    },
    {
      "cell_type": "code",
      "metadata": {
        "id": "e_9rbl7S0GBm"
      },
      "source": [
        "cl <- colorRampPalette(c('yellow', 'red', 'black'))(6)"
      ],
      "execution_count": 14,
      "outputs": []
    },
    {
      "cell_type": "markdown",
      "metadata": {
        "id": "tlylaCPtcKNe"
      },
      "source": [
        "### Export images\n",
        "The [pdf](https://www.rdocumentation.org/packages/grDevices/versions/3.6.2/topics/pdf) function starts the graphics device driver for producing PDF graphics. \n",
        "The pdf file will be named in the path (function argument) and saved on Google Colab. Click the folder icon to view all files temporarily uploaded to the machine (click the pdf name in the list to download and view the image). \n",
        "Now you can zoom in and explore each subplot better!\n",
        "\n",
        "N.B. always use the [dev.off](https://www.rdocumentation.org/packages/imguR/versions/0.1.5/topics/dev.off) function to manage the correct closing and loading of the graphics space."
      ]
    },
    {
      "cell_type": "code",
      "metadata": {
        "id": "rc66aGeS9qj8"
      },
      "source": [
        "pdf(file = '/content/solar_orbiter_class6.pdf')\n",
        "plot(solar_orbiter_class6$map, col=cl, axes= FALSE)\n",
        "dev.off()"
      ],
      "execution_count": null,
      "outputs": []
    },
    {
      "cell_type": "markdown",
      "metadata": {
        "id": "hkdNeOHn0MDb"
      },
      "source": [
        "## Grand Canyon\n",
        "\"*The wonders of the Grand Canyon cannot be adequately represented in symbols or speech*\", John Wesley Powel wrote in his log. \"*The resources of the graphic art are taxed beyond their powers in attempting to portray its features\"*.\n",
        "\n",
        "Powell was, of course, seeing the canyon mainly from river level; there was no technology that provided views of the landscape from space then. If there had been, he would have seen something similar to what the Operational Land Imager (OLI) on the [Landsat Data Continuity Mission](https://landsat.gsfc.nasa.gov/landsat-8) (LDCM) did on March 29, 2013. "
      ]
    },
    {
      "cell_type": "markdown",
      "metadata": {
        "id": "jDbnH5qDUTB4"
      },
      "source": [
        "### Reading spatial data\n",
        "To read and view a multilevel object it is common to use the [brick](https://www.rdocumentation.org/packages/raster/versions/3.4-5/topics/brick) function (RasterBrick object). \n",
        "Explore the properties of the `grand_canyon` object."
      ]
    },
    {
      "cell_type": "code",
      "metadata": {
        "id": "4z3POkN40SrK"
      },
      "source": [
        "grand_canyon <- brick(\"Grand_Canyon.jpg\")\n",
        "grand_canyon"
      ],
      "execution_count": null,
      "outputs": []
    },
    {
      "cell_type": "markdown",
      "metadata": {
        "id": "IPTJEnC0VDiw"
      },
      "source": [
        "### Visualization of spatial data\n",
        "In this case, the resulting color differences in the image will be related to lithological differences, the presence or absence of water, the almost absent vegetative cover and the presence of clouds.\n",
        "\n"
      ]
    },
    {
      "cell_type": "code",
      "metadata": {
        "id": "1vNn9R_A0V-M"
      },
      "source": [
        "plotRGB(grand_canyon, r=1, g=2, b=3, stretch=\"lin\")"
      ],
      "execution_count": null,
      "outputs": []
    },
    {
      "cell_type": "code",
      "metadata": {
        "id": "psu1bqQe4V7q"
      },
      "source": [
        "plotRGB(grand_canyon, r=1, g=2, b=3, stretch=\"hist\")"
      ],
      "execution_count": null,
      "outputs": []
    },
    {
      "cell_type": "markdown",
      "metadata": {
        "id": "TLaRoZLEVhQG"
      },
      "source": [
        "### Unsupervised clustering\n",
        "Typically, unsupervised algorithms make inferences from datasets using only input vectors without referring to known or labeled results.\n",
        "Therefore the content of each class should be validated in the field or compared with other data demonstrating belonging to the chosen land cover type. This step is very important and is useful for defining the accuracy of the classification model used.\n",
        "\n",
        "\n"
      ]
    },
    {
      "cell_type": "code",
      "metadata": {
        "id": "rjZL0_gf0Yr8"
      },
      "source": [
        "set.seed(1234)\n",
        "grand_canyon_class6 <- unsuperClass(grand_canyon, nClasses=6)\n",
        "cl2 <- colorRampPalette(c('purple', 'blue', 'yellow', 'red', 'black'))(6)"
      ],
      "execution_count": 26,
      "outputs": []
    },
    {
      "cell_type": "markdown",
      "metadata": {
        "id": "-xVVm6pf1zuO"
      },
      "source": [
        "### Export images\n",
        "The [pdf](https://www.rdocumentation.org/packages/grDevices/versions/3.6.2/topics/pdf) function starts the graphics device driver for producing PDF graphics. \n",
        "The pdf file will be named in the path (function argument) and saved on Google Colab. Click the folder icon to view all files temporarily uploaded to the machine (click the pdf name in the list to download and view the image). \n",
        "Now you can zoom in and explore each subplot better!\n",
        "\n",
        "N.B. always use the [dev.off](https://www.rdocumentation.org/packages/imguR/versions/0.1.5/topics/dev.off) function to manage the correct closing and loading of the graphics space."
      ]
    },
    {
      "cell_type": "code",
      "metadata": {
        "id": "ntpEPXV50B3z"
      },
      "source": [
        "pdf(file = '/content/grand_canyon_class6.pdf')\n",
        "plot(grand_canyon_class6$map, col=cl2, axes= FALSE)\n",
        "dev.off()"
      ],
      "execution_count": 34,
      "outputs": []
    }
  ]
}