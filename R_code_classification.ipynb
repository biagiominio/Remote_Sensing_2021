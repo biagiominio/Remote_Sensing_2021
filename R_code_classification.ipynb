{
  "nbformat": 4,
  "nbformat_minor": 0,
  "metadata": {
    "colab": {
      "name": "R_code_classification.ipynb",
      "provenance": [],
      "authorship_tag": "ABX9TyPWq+SeoVqCqnNaUcA3MD7K"
    },
    "kernelspec": {
      "name": "ir",
      "display_name": "R"
    },
    "language_info": {
      "name": "R"
    }
  },
  "cells": [
    {
      "cell_type": "markdown",
      "metadata": {
        "id": "WfzIAI-J6TEO"
      },
      "source": [
        "<table class=\"ee-notebook-buttons\" align=\"left\"><td>\n",
        "<a target=\"_blank\"  href=\"https://colab.research.google.com/drive/1kseAnLcIDHDlO8OyLutzehCQoY41k3Bb#scrollTo=WfzIAI-J6TEO\">\n",
        "    <img src=\"https://www.tensorflow.org/images/colab_logo_32px.png\" /> Run in Google Colab</a>\n",
        "</td><td>\n",
        "<a target=\"_blank\"  href=\"https://github.com/biagiominio/Remote_sensing_2021/blob/main/R_code_classification.ipynb\"><img width=32px src=\"https://www.tensorflow.org/images/GitHub-Mark-32px.png\" /> View source on GitHub</a></td></table>"
      ]
    },
    {
      "cell_type": "code",
      "metadata": {
        "id": "FvJ0Zbx78ZFA"
      },
      "source": [
        "url = \"https://eoimages.gsfc.nasa.gov/images/imagerecords/80000/80948/dolansprings_oli_2013088_canyon_lrg.jpg\""
      ],
      "execution_count": null,
      "outputs": []
    },
    {
      "cell_type": "code",
      "metadata": {
        "id": "er2BO2Skskxj"
      },
      "source": [
        "url = \"https://www.esa.int/var/esa/storage/images/esa_multimedia/images/2020/07/solar_orbiter_s_first_view_of_the_sun2/22133123-1-eng-GB/Solar_Orbiter_s_first_view_of_the_Sun.png\""
      ],
      "execution_count": null,
      "outputs": []
    }
  ]
}