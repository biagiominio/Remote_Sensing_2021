{
  "nbformat": 4,
  "nbformat_minor": 0,
  "metadata": {
    "colab": {
      "name": "R_code_multivariate_analysis.ipynb",
      "provenance": [],
      "authorship_tag": "ABX9TyMhVuoYW79znzSsZJRLCKEa"
    },
    "kernelspec": {
      "name": "ir",
      "display_name": "R"
    },
    "language_info": {
      "name": "R"
    }
  },
  "cells": [
    {
      "cell_type": "markdown",
      "metadata": {
        "id": "WfzIAI-J6TEO"
      },
      "source": [
        "<table class=\"ee-notebook-buttons\" align=\"left\"><td>\n",
        "<a target=\"_blank\"  href=\"https://colab.research.google.com/github/biagiominio/Remote_sensing_2021/blob/main/R_code_multivariate_analysis.ipynb#scrollTo=WfzIAI-J6TEO\">\n",
        "    <img src=\"https://www.tensorflow.org/images/colab_logo_32px.png\" /> Run in Google Colab</a>\n",
        "</td><td>\n",
        "<a target=\"_blank\"  href=\"https://github.com/biagiominio/Remote_sensing_2021/blob/main/R_code_multivariate_analysis.ipynb\"><img width=32px src=\"https://www.tensorflow.org/images/GitHub-Mark-32px.png\" /> View source on GitHub</a></td></table>"
      ]
    },
    {
      "cell_type": "markdown",
      "metadata": {
        "id": "_UkpOdo-8YBw"
      },
      "source": [
        "# Dimensionality Reduction \n",
        "[Principal components analysis](https://en.wikipedia.org/wiki/Principal_component_analysis) (PCA) is a technique applied to multispectral and hyperspectral remotely sensed data. PCA transforms an original correlated dataset into a substantially smaller set of uncorrelated variables that represents most of the information present in the original dataset. It reduces data dimensionality (e.g., number of bands). Instead of throwing away the redundant data, principal components analysis condenses the information in intercorrelated variables into a few variables, called principal components.\n",
        "\n",
        "\n"
      ]
    },
    {
      "cell_type": "markdown",
      "metadata": {
        "id": "aUjXwyfVb_jM"
      },
      "source": [
        "### Install R packages\n",
        "The [install.packages](https://www.rdocumentation.org/packages/utils/versions/3.6.2/topics/install.packages) function is used to download and install packages from CRAN-like repositories.\n",
        "To install multiple packages at the same time, you define a vector that contains the names of the packages to be installed.\n",
        "\n",
        "The [raster](https://www.rdocumentation.org/packages/raster/versions/3.4-10) package defines classes and methods for spatial raster data access and manipulation. \n",
        "[RStoolbox](https://www.rdocumentation.org/packages/RStoolbox/versions/0.2.6) is an package providing a wide range of tools for your every-day remote sensing processing needs. The available tool-set covers many aspects for remote sensing image processing and analysis such as calculating spectral indices, principal component transformation, unsupervised and supervised classification or fractional cover analyses."
      ]
    },
    {
      "cell_type": "code",
      "metadata": {
        "id": "l10HaqN7AZAT"
      },
      "source": [
        "packages <- c(\"raster\", \"RStoolbox\")\n",
        "install.packages(packages)"
      ],
      "execution_count": null,
      "outputs": []
    },
    {
      "cell_type": "markdown",
      "metadata": {
        "id": "HivL27NllC4t"
      },
      "source": [
        "The [library](https://www.rdocumentation.org/packages/base/versions/3.6.2/topics/library) function is used to load previously installed packages.\n",
        "Using the [lapply](https://www.rdocumentation.org/packages/base/versions/3.6.2/topics/lapply) function we simultaneously apply the `library()` function to all elements of the vector containing the packages.\n",
        "\n"
      ]
    },
    {
      "cell_type": "code",
      "metadata": {
        "id": "PTJfZZmyt8Gi"
      },
      "source": [
        "lapply(packages , library, character.only = TRUE)"
      ],
      "execution_count": null,
      "outputs": []
    },
    {
      "cell_type": "markdown",
      "metadata": {
        "id": "FUiacmQdNfhq"
      },
      "source": [
        "Set the current working directory of the R process with the [setwd](https://www.rdocumentation.org/packages/base/versions/3.6.2/topics/getwd) function."
      ]
    },
    {
      "cell_type": "code",
      "metadata": {
        "id": "l20JpvVtlL_k"
      },
      "source": [
        "setwd(\"/content\")"
      ],
      "execution_count": 4,
      "outputs": []
    },
    {
      "cell_type": "markdown",
      "metadata": {
        "id": "uld5vuUVeEYj"
      },
      "source": [
        "## Study area\n",
        "Let's analyze Landsat images of the [*Parakanã Indigenous Reserve*](https://pib.socioambiental.org/en/Povo:Parakan%C3%A3) in the state of Pará, a northern region of Brazil. This reserve, founded in 1975, is listed as an indigenous area but has not been assigned to an International Union for Conservation of Nature (IUCN) category (Protected Planet, http://www.protectedplanet.net). \n",
        "\n",
        "Large-scale deforestation in the region is due to agricultural expansion and cattle ranching and has modified this region considerably in the past. Mainly, the Parakanã Indigenous Reserve remains forested. A reservoir on the Rio Tocantins (Tocantins River) covers the north-east part of the area. This large body of water (Lago Tucuruí) is an artificial lake created by the construction of a hydroelectric dam called Represa de Tucuruí (Tucuruí Dam) which was finished in 1984. Construction of the dam is closely related to the observed deforestation and degradation patterns, as workers began settling down after the construction of the dam was complete. Moreover the area is bisected by the Transamazônica highway. \n",
        "\n",
        "Download Landsat images of the Parakanã Indigenous Reserve from this [link]() to get the data to use in this example.\n",
        "\n",
        "![](https://media.gettyimages.com/photos/large-deforestation-surrounds-the-parakana-indigenous-reserve-in-the-picture-id959485258)\n"
      ]
    },
    {
      "cell_type": "markdown",
      "metadata": {
        "id": "Cz0OtbKUou7x"
      },
      "source": [
        "## Reading spatial data\n",
        "To read and view a multilevel object it is common to use the [brick](https://www.rdocumentation.org/packages/raster/versions/3.4-5/topics/brick) function.\n",
        "Select the images already pre-processed for the year 2011. Explore the properties of the `p224r63_2011` object.\n",
        "\n",
        "Also there may be multiple functions with the same name in multiple packages. The colon operator allows you to specify the specific function you want: `package::functionname`\n",
        "\n"
      ]
    },
    {
      "cell_type": "code",
      "metadata": {
        "colab": {
          "base_uri": "https://localhost:8080/",
          "height": 170
        },
        "id": "QGr8OXt-iiDd",
        "outputId": "269bc871-e53e-47fb-96a5-8c11c12db981"
      },
      "source": [
        "p224r63_2011 <- raster::brick(\"p224r63_2011_masked.grd\")\n",
        "p224r63_2011"
      ],
      "execution_count": 7,
      "outputs": [
        {
          "output_type": "display_data",
          "data": {
            "text/plain": [
              "class      : RasterBrick \n",
              "dimensions : 1499, 2967, 4447533, 7  (nrow, ncol, ncell, nlayers)\n",
              "resolution : 30, 30  (x, y)\n",
              "extent     : 579765, 668775, -522705, -477735  (xmin, xmax, ymin, ymax)\n",
              "crs        : +proj=utm +zone=22 +datum=WGS84 +units=m +no_defs +ellps=WGS84 +towgs84=0,0,0 \n",
              "source     : p224r63_2011_masked.grd \n",
              "names      :       B1_sre,       B2_sre,       B3_sre,       B4_sre,       B5_sre,        B6_bt,       B7_sre \n",
              "min values : 0.000000e+00, 0.000000e+00, 0.000000e+00, 1.196277e-02, 4.116526e-03, 2.951000e+02, 0.000000e+00 \n",
              "max values :    0.1249041,    0.2563655,    0.2591587,    0.5592193,    0.4894984,  305.2000000,    0.3692634 \n"
            ]
          },
          "metadata": {
            "tags": []
          }
        }
      ]
    },
    {
      "cell_type": "markdown",
      "metadata": {
        "id": "z0d4dIXNzi16"
      },
      "source": [
        "$\\mathsf{B1}$ = Blue; \n",
        "$\\mathsf{B2}$ = Green;\n",
        "$\\mathsf{B3}$ = Red;\n",
        "$\\mathsf{B4}$ = Near Infrared;\n",
        "$\\mathsf{B5}$ = Short Wave Infrared;\n",
        "$\\mathsf{B6}$ = Thermal Infrared;\n",
        "$\\mathsf{B7}$ = Short Wave Infrared."
      ]
    },
    {
      "cell_type": "markdown",
      "metadata": {
        "id": "h9iS_4XFkt2w"
      },
      "source": [
        "## Multicollinearity\n",
        "The spectral bands of an image have some degree of correlation with each other.\n",
        "Excessive correlation between two or more bands results in a\n",
        "greater redundancy of overall information.\n",
        "This feature, called [multicollinearity](https://en.wikipedia.org/wiki/Multicollinearity) or collinearity, can be useful for eliminating unnecessary information to view images. In this way you get a good compromise between size and quality of an image.\n",
        "\n",
        "It is possible to visualize the degree of correlation between each pair of bands through different scatter plots. We can either manually build the individual graphs like this:\n",
        "```\n",
        "plot(p224r63_2011$B1_sre, p224r63_2011$B2_sre, col=\"red\", pch=19, cex=2)\n",
        "                                     .\n",
        "                                     .\n",
        "                                     .\n",
        "plot(p224r63_2011$B6_sre, p224r63_2011$B5_sre, col=\"red\", pch=19, cex=2)\n",
        "```\n",
        "Otherwise, we can use the [pairs](https://www.rdocumentation.org/packages/graphics/versions/3.6.2/topics/pairs) function to automatically produce a scatterplot matrix with the respective correlation coefficients.\n"
      ]
    },
    {
      "cell_type": "code",
      "metadata": {
        "id": "k-vLxEg-k8Jw"
      },
      "source": [
        "pairs(p224r63_2011)"
      ],
      "execution_count": null,
      "outputs": []
    },
    {
      "cell_type": "markdown",
      "metadata": {
        "id": "5RKIGs0m-3Sh"
      },
      "source": [
        "## Principal Component Analysis\n",
        "As mentioned earlier, PCA transforms an originally related data set into a substantially smaller set of unrelated variables. This procedure reduces the dimensionality of the data (i.e. reduces the number of bands) by increasing the signal-to-noise ratio. \n",
        "\n",
        "Apply the PCA to the Raster* object via the [rasterPCA](https://www.rdocumentation.org/packages/RStoolbox/versions/0.2.6/topics/rasterPCA) function of the `RStoolbox` package."
      ]
    },
    {
      "cell_type": "code",
      "metadata": {
        "id": "bdMY7Z6WlWzS"
      },
      "source": [
        "p224r63_2011.pca <- RStoolbox::rasterPCA(p224r63_2011)"
      ],
      "execution_count": 17,
      "outputs": []
    },
    {
      "cell_type": "markdown",
      "metadata": {
        "id": "1Z3XUkT4wSgF"
      },
      "source": [
        "Explore the parameters of the PCA model by running the `summary()` of the `p224r63_2011_pca` object."
      ]
    },
    {
      "cell_type": "code",
      "metadata": {
        "colab": {
          "base_uri": "https://localhost:8080/",
          "height": 170
        },
        "id": "fBb4E8ZVlY_K",
        "outputId": "323123f2-2f00-4ed1-a30d-afe412f2390f"
      },
      "source": [
        "summary(p224r63_2011.pca$model)"
      ],
      "execution_count": 18,
      "outputs": [
        {
          "output_type": "display_data",
          "data": {
            "text/plain": [
              "Importance of components:\n",
              "                          Comp.1      Comp.2       Comp.3       Comp.4\n",
              "Standard deviation     1.3225113 0.051860776 0.0262682561 6.721165e-03\n",
              "Proportion of Variance 0.9980273 0.001534693 0.0003937369 2.577702e-05\n",
              "Cumulative Proportion  0.9980273 0.999561964 0.9999557012 9.999815e-01\n",
              "                             Comp.5       Comp.6       Comp.7\n",
              "Standard deviation     4.356758e-03 2.743519e-03 2.439490e-03\n",
              "Proportion of Variance 1.083105e-05 4.294963e-06 3.395797e-06\n",
              "Cumulative Proportion  9.999923e-01 9.999966e-01 1.000000e+00"
            ]
          },
          "metadata": {
            "tags": []
          }
        }
      ]
    },
    {
      "cell_type": "code",
      "metadata": {
        "id": "WH_N4yzwlauS"
      },
      "source": [
        "pdf(file = '/content/ImagePCA_res.pdf')\n",
        "plotRGB(p224r63_2011.pca$map, r=1, g=2, b=3, stretch=\"lin\")\n",
        "dev.off()"
      ],
      "execution_count": null,
      "outputs": []
    },
    {
      "cell_type": "markdown",
      "metadata": {
        "id": "lbXaTlsISGUE"
      },
      "source": [
        "Use the [par](https://www.rdocumentation.org/packages/graphics/versions/3.6.2/topics/par) function to compare the different spatial resolution between the initial image and the resampled one.\n",
        "\n",
        "Export the image using the [pdf](https://www.rdocumentation.org/packages/grDevices/versions/3.6.2/topics/pdf) function to enlarge it better and view the differences.\n",
        "\n",
        "N.B. always use the `dev.off()` function to manage the correct closing and loading of the graphics space."
      ]
    },
    {
      "cell_type": "code",
      "metadata": {
        "id": "N7c0MW5RQyID"
      },
      "source": [
        "pdf(file = '/content/Comp_ImagePCA_res.pdf')\n",
        "par(mfrow = c(3,1))\n",
        "plotRGB(p224r63_2011, r = 3, g = 2, b = 1, stretch = \"lin\")\n",
        "plotRGB(p224r63_2011, r = 4, g = 3, b = 2, stretch = \"lin\")\n",
        "plotRGB(p224r63_2011.pca$map, r=1, g=2, b=3, stretch=\"lin\")\n",
        "dev.off()"
      ],
      "execution_count": null,
      "outputs": []
    },
    {
      "cell_type": "markdown",
      "metadata": {
        "id": "6ommndDa-ahv"
      },
      "source": [
        "### Image resampling\n",
        "*Resampling* is the mathematical technique used to create a new version of the image with a different width and/or height in pixels. Increasing the size of an image is called *upsampling*; reducing its size is called *downsampling*.\n",
        "\n",
        "The image size reduction occurs through the [aggregate](https://www.rdocumentation.org/packages/raster/versions/3.4-10/topics/aggregate) function of the `raster` package which groups the initial pixels in order to create larger cells.\n",
        "In the function, the `fact` argument is the aggregation factor expressed as the number of cells in each direction (e.g. the new cell will be equal to 10 X 10 pixels).\n",
        "\n"
      ]
    },
    {
      "cell_type": "code",
      "metadata": {
        "colab": {
          "base_uri": "https://localhost:8080/",
          "height": 170
        },
        "id": "3u9WdEs2lHch",
        "outputId": "12dc9819-32f4-4d66-829d-e4c70b4c7f9e"
      },
      "source": [
        "p224r63_2011.res <- aggregate(p224r63_2011, fun=mean, fact=10)\n",
        "p224r63_2011.res"
      ],
      "execution_count": 21,
      "outputs": [
        {
          "output_type": "display_data",
          "data": {
            "text/plain": [
              "class      : RasterBrick \n",
              "dimensions : 150, 297, 44550, 7  (nrow, ncol, ncell, nlayers)\n",
              "resolution : 300, 300  (x, y)\n",
              "extent     : 579765, 668865, -522735, -477735  (xmin, xmax, ymin, ymax)\n",
              "crs        : +proj=utm +zone=22 +datum=WGS84 +units=m +no_defs +ellps=WGS84 +towgs84=0,0,0 \n",
              "source     : memory\n",
              "names      :       B1_sre,       B2_sre,       B3_sre,       B4_sre,       B5_sre,        B6_bt,       B7_sre \n",
              "min values :   0.00670000,   0.01580000,   0.01356544,   0.01648527,   0.01500000, 295.54400513,   0.00270000 \n",
              "max values :   0.04936299,   0.08943339,   0.10513023,   0.43805822,   0.31297142, 303.57499786,   0.18649654 \n"
            ]
          },
          "metadata": {
            "tags": []
          }
        }
      ]
    },
    {
      "cell_type": "markdown",
      "metadata": {
        "id": "ZzMBJ87pRwH7"
      },
      "source": [
        "The spatial resolution changes from 30 $\\mathsf{m}$ to 300 $\\mathsf{m}$ while the number of pixels is reduced by two orders of magnitude (in this case from 4447533 to 44550)."
      ]
    },
    {
      "cell_type": "code",
      "metadata": {
        "id": "v2mZ7PSxza2P"
      },
      "source": [
        "# PCA\n",
        "p224r63_2011.res.pca <- RStoolbox::rasterPCA(p224r63_2011.res)"
      ],
      "execution_count": null,
      "outputs": []
    },
    {
      "cell_type": "markdown",
      "metadata": {
        "id": "Ej1RzdtB_M8c"
      },
      "source": [
        "Use the [par](https://www.rdocumentation.org/packages/graphics/versions/3.6.2/topics/par) function to compare the different spatial resolution between the initial image and the resampled one.\n",
        "\n",
        "Export the image using the [pdf](https://www.rdocumentation.org/packages/grDevices/versions/3.6.2/topics/pdf) function to enlarge it better and view the differences.\n",
        "\n",
        "N.B. always use the `dev.off()` function to manage the correct closing and loading of the graphics space."
      ]
    },
    {
      "cell_type": "code",
      "metadata": {
        "id": "exdvTP66lU73"
      },
      "source": [
        "pdf(file = '/content/downsampling.pdf')\n",
        "par(mfrow=c(2,2))\n",
        "plotRGB(p224r63_2011, r=4, g=3, b=2, stretch=\"lin\")\n",
        "plotRGB(p224r63_2011.res, r=1, g=2, b=3, stretch=\"lin\")\n",
        "plotRGB(p224r63_2011.pca, r=1, g=2, b=3, stretch=\"lin\")\n",
        "plotRGB(p224r63_2011.res.pca$map, r=1, g=2, b=3, stretch=\"lin\")\n",
        "dev.off()"
      ],
      "execution_count": null,
      "outputs": []
    }
  ]
}