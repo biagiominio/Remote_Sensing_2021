{
  "nbformat": 4,
  "nbformat_minor": 0,
  "metadata": {
    "colab": {
      "name": "R_code_vegetation_indices.ipynb",
      "provenance": [],
      "authorship_tag": "ABX9TyOzs/axjJMokbwPCKUKQRsY"
    },
    "kernelspec": {
      "name": "ir",
      "display_name": "R"
    },
    "language_info": {
      "name": "R"
    }
  },
  "cells": [
    {
      "cell_type": "markdown",
      "metadata": {
        "id": "WfzIAI-J6TEO"
      },
      "source": [
        "<table class=\"ee-notebook-buttons\" align=\"left\"><td>\n",
        "<a target=\"_blank\"  href=\"https://colab.research.google.com/github/biagiominio/Remote_sensing_2021/blob/main/R_code_vegetation_indices.ipynb\">\n",
        "    <img src=\"https://www.tensorflow.org/images/colab_logo_32px.png\" /> Run in Google Colab</a>\n",
        "</td><td>\n",
        "<a target=\"_blank\"  href=\"https://github.com/biagiominio/Remote_sensing_2021/blob/main/R_code_vegetation_indices.ipynb\"><img width=32px src=\"https://www.tensorflow.org/images/GitHub-Mark-32px.png\" /> View source on GitHub</a></td></table>"
      ]
    },
    {
      "cell_type": "markdown",
      "metadata": {
        "id": "_UkpOdo-8YBw"
      },
      "source": [
        "# Deforestation in Mato Grosso, Brazil\n",
        "\n",
        "An inland state of central Brazil, deep in the Amazon interior, Mato Grosso was long isolated from the outside world. A railroad, followed by highways and airplanes, eventually connected this state with other regions in the twentieth century. By the early twenty-first century, modern technology had clearly reached Mato Grosso—and produced widespread change.\n",
        "\n",
        "The Thematic Mapper on NASA’s Landsat 5 satellite captured the top image of part of Mato Grosso on August 6, 1992. The Advanced Spaceborne Thermal Emission and Reflection Radiometer (ASTER) on NASA’s Terra satellite captured the bottom image of the same area on July 28, 2006. In both of these false-color images, red indicates vegetation, and the brighter the red, the denser the vegetation. The Rio Peixoto de Azevedo appears pale blue, nearly white, in 1992, perhaps a combination of reflective sediment or sunlight glinting off the water.\n",
        "\n",
        "The most conspicuous difference between the images is the widespread forest clearing—visible as rectangles of gray-beige—that had occurred by 2006. The most intense areas of clearing appear along roadways, such as road MT-419, which runs east to west north of the river. A 2006 study found that Brazil’s mechanized agriculture increased by more than 3.6 million hectares (8.9 million acres) between 2001 and 2004, growing more than 540,000 hectares (1.3 million acres) in Mato Grosso alone. Clearing for pasture was still the leading cause of deforestation at that time, but the contribution from large agricultural clearings, such as for soy plantations, was increasing.\n",
        "\n",
        "<table>\n",
        "  <tr>\n",
        "    <td><img src=\"https://eoimages.gsfc.nasa.gov/images/imagerecords/35000/35891/matogrosso_l5_1992219_lrg.jpg\" width=500</td>\n",
        "    <td><img src=\"https://eoimages.gsfc.nasa.gov/images/imagerecords/35000/35891/matogrosso_ast_2006209_lrg.jpg\" width=500</td>\n",
        "  </tr>\n",
        "</table>\n",
        "\n",
        "<font size=\"2\"> [*NASA images*](https://earthobservatory.nasa.gov/images/35891/deforestation-in-mato-grosso-brazil) *created by Jesse Allen, using Landsat data provided by the United States Geological Survey and ASTER data provided courtesy of NASA/GSFC/METI/ERSDAC/JAROS, and U.S./Japan ASTER Science Team. Caption by Michon Scott.*</font> "
      ]
    },
    {
      "cell_type": "code",
      "metadata": {
        "id": "sIBZqCaW5Xuz"
      },
      "source": [
        "mato_grosso_1992_url <- \"https://eoimages.gsfc.nasa.gov/images/imagerecords/35000/35891/matogrosso_l5_1992219_lrg.jpg\"\n",
        "mato_grosso_2006_url <- \"https://eoimages.gsfc.nasa.gov/images/imagerecords/35000/35891/matogrosso_ast_2006209_lrg.jpg\""
      ],
      "execution_count": null,
      "outputs": []
    },
    {
      "cell_type": "markdown",
      "metadata": {
        "id": "CWcyue8oJuZe"
      },
      "source": [
        "The [download.file](https://www.rdocumentation.org/packages/utils/versions/3.6.2/topics/download.file) function can be used to download a file from the Internet. \n",
        "```\n",
        "download.file(url, destfile)\n",
        "```\n",
        "In the function the `url` argument sets the resource to be downloaded and the `destfile` a character string with which the downloaded file is named."
      ]
    },
    {
      "cell_type": "code",
      "metadata": {
        "id": "2VwQSAU5NkR_"
      },
      "source": [
        "download.file(mato_grosso_1992_url, \"Mato_Grosso_1992.jpg\")\n",
        "download.file(mato_grosso_2006_url, \"Mato_Grosso_2006.jpg\")"
      ],
      "execution_count": null,
      "outputs": []
    },
    {
      "cell_type": "markdown",
      "metadata": {
        "id": "aUjXwyfVb_jM"
      },
      "source": [
        "## Install R packages\n",
        "The [install.packages](https://www.rdocumentation.org/packages/utils/versions/3.6.2/topics/install.packages) function is used to download and install packages from CRAN-like repositories.\n",
        "To install multiple packages at the same time, you define a vector that contains the names of the packages to be installed.\n",
        "\n",
        "The [raster](https://www.rdocumentation.org/packages/raster/versions/3.4-10) package defines classes and methods for spatial raster data access and manipulation. \n",
        "\n",
        "The [rasterVis](https://www.rdocumentation.org/packages/rasterVis/versions/0.50.2) package complements raster providing a set of methods for enhanced visualization and interaction.\n",
        "The [rgdal](https://www.rdocumentation.org/packages/rgdal/versions/1.5-23) package provides links to the [GDAL](https://gdal.org/) library (Geospatial Data Abstraction Library) and access to projection/transformation operations from the \"*PROJ*\" library.\n",
        "\n",
        "[RStoolbox](https://www.rdocumentation.org/packages/RStoolbox/versions/0.2.6) is an package providing a wide range of tools for your every-day remote sensing processing needs. The available tool-set covers many aspects for remote sensing image processing and analysis such as calculating spectral indices, principal component transformation, unsupervised and supervised classification or fractional cover analyses.\n",
        "\n",
        "The [rasterdiv](https://www.rdocumentation.org/packages/rasterdiv/versions/0.2-3) package provides functions to calculate indices of diversity on numerical matrices based on information theory. The rationale behind the package is described in *Rocchini et al.* [*(2017*](https://www.sciencedirect.com/science/article/abs/pii/S1470160X16304319) and [*2021)*](https://onlinelibrary.wiley.com/doi/10.1111/geb.13270)"
      ]
    },
    {
      "cell_type": "code",
      "metadata": {
        "id": "l10HaqN7AZAT"
      },
      "source": [
        "packages <- c(\"raster\", \"RStoolbox\", \"rgdal\", \"rasterdiv\", \"rasterVis\")\n",
        "install.packages(packages)"
      ],
      "execution_count": null,
      "outputs": []
    },
    {
      "cell_type": "markdown",
      "metadata": {
        "id": "HivL27NllC4t"
      },
      "source": [
        "The [library](https://www.rdocumentation.org/packages/base/versions/3.6.2/topics/library) function is used to load previously installed packages.\n",
        "Using the [lapply](https://www.rdocumentation.org/packages/base/versions/3.6.2/topics/lapply) function we simultaneously apply the `library()` function to all elements of the vector containing the packages.\n",
        "\n"
      ]
    },
    {
      "cell_type": "code",
      "metadata": {
        "id": "PTJfZZmyt8Gi"
      },
      "source": [
        "lapply(packages , library, character.only = TRUE)"
      ],
      "execution_count": null,
      "outputs": []
    },
    {
      "cell_type": "markdown",
      "metadata": {
        "id": "FUiacmQdNfhq"
      },
      "source": [
        "Set the current working directory of the R process with the [setwd](https://www.rdocumentation.org/packages/base/versions/3.6.2/topics/getwd) function."
      ]
    },
    {
      "cell_type": "code",
      "metadata": {
        "id": "l20JpvVtlL_k"
      },
      "source": [
        "setwd(\"/content\")"
      ],
      "execution_count": null,
      "outputs": []
    },
    {
      "cell_type": "markdown",
      "metadata": {
        "id": "Cz0OtbKUou7x"
      },
      "source": [
        "## Reading spatial data\n",
        "To read and view a multilevel object it is common to use the [brick](https://www.rdocumentation.org/packages/raster/versions/3.4-5/topics/brick) function.\n",
        "Select the images already pre-processed for the year 2011. Explore the properties of the `p224r63_2011` object.\n",
        "\n",
        "Also there may be multiple functions with the same name in multiple packages. The colon operator allows you to specify the specific function you want: `package::functionname`\n",
        "\n"
      ]
    },
    {
      "cell_type": "code",
      "metadata": {
        "id": "ICF4_hiO37HX"
      },
      "source": [
        "mato_grosso_1992 <- brick( \"Mato_Grosso_1992.jpg\")\n",
        "mato_grosso_2006 <- brick( \"Mato_Grosso_2006.jpg\")"
      ],
      "execution_count": null,
      "outputs": []
    },
    {
      "cell_type": "markdown",
      "metadata": {
        "id": "z0d4dIXNzi16"
      },
      "source": [
        "BANDS: \\\\\n",
        "$\\mathsf{B1}$ = Near Infrared; \n",
        "$\\mathsf{B2}$ = Red;\n",
        "$\\mathsf{B3}$ = Green;\n"
      ]
    },
    {
      "cell_type": "code",
      "metadata": {
        "id": "g8DtZq5z3-9m"
      },
      "source": [
        "# b1 = NIR, b2 = red, b3 = green\n",
        "par(mfrow=c(2,1))\n",
        "plotRGB(defor1, r=1, g=2, b=3, stretch=\"lin\")\n",
        "plotRGB(defor2, r=1, g=2, b=3, stretch=\"lin\")"
      ],
      "execution_count": null,
      "outputs": []
    },
    {
      "cell_type": "markdown",
      "metadata": {
        "id": "DemO_D4DNTOw"
      },
      "source": [
        "## Vegetation indices"
      ]
    },
    {
      "cell_type": "code",
      "metadata": {
        "id": "wT2LOE114CrW"
      },
      "source": [
        "# difference vegetation index\n",
        "# time 1\n",
        "dvi1 <- defor1$defor1.1 - defor1$defor1.2\n",
        "# dev.off()\n",
        "plot(dvi1)\n",
        "cl <- colorRampPalette(c('darkblue','yellow','red','black'))(100) # specifying a color scheme\n",
        "plot(dvi1, col=cl, main=\"DVI at time 1\")\n"
      ],
      "execution_count": null,
      "outputs": []
    },
    {
      "cell_type": "code",
      "metadata": {
        "id": "_UsLP5Fn4HdM"
      },
      "source": [
        "# time 2\n",
        "dvi2 <- defor2$defor2.1 - defor2$defor2.2\n",
        "plot(dvi2, col=cl, main=\"DVI at time 2\")\n",
        "par(mfrow=c(2,1))\n"
      ],
      "execution_count": null,
      "outputs": []
    },
    {
      "cell_type": "code",
      "metadata": {
        "id": "tBrAt8e54J7h"
      },
      "source": [
        "plot(dvi1, col=cl, main=\"DVI at time 1\")\n",
        "plot(dvi2, col=cl, main=\"DVI at time 2\")\n"
      ],
      "execution_count": null,
      "outputs": []
    },
    {
      "cell_type": "code",
      "metadata": {
        "id": "CH30ZUz04MXn"
      },
      "source": [
        "difdvi <- dvi1 - dvi2\n",
        "## Warning in dvi1 - dvi2: Raster objects have different extents. Result for their intersection\n",
        "is returned\n",
        "# dev.off()\n",
        "cld <- colorRampPalette(c('blue','white','red'))(100)\n",
        "plot(difdvi, col=cld)\n",
        "# ndvi\n",
        "# (NIR-RED) / (NIR+RED)\n",
        "ndvi1 <- (defor1$defor1.1 - defor1$defor1.2) / (defor1$defor1.1 + defor1$defor1.2)\n",
        "plot(ndvi1, col=cl)\n"
      ],
      "execution_count": null,
      "outputs": []
    },
    {
      "cell_type": "markdown",
      "metadata": {
        "id": "NU9RGKOENcG1"
      },
      "source": [
        "## NDVI"
      ]
    },
    {
      "cell_type": "code",
      "metadata": {
        "id": "fX9QDFq34O_9"
      },
      "source": [
        "# ndvi1 <- dvi1 / (defor1$defor1.1 + defor1$defor1.2)\n",
        "# plot(ndvi1, col=cl)\n",
        "ndvi2 <- (defor2$defor2.1 - defor2$defor2.2) / (defor2$defor2.1 + defor2$defor2.2)\n",
        "plot(ndvi2, col=cl)\n",
        "# ndvi1 <- dvi2 / (defor2$defor2.1 + defor1$defor2.2)\n",
        "# plot(ndvi2, col=cl)\n",
        "difndvi <- ndvi1 - ndvi2\n",
        "## Warning in ndvi1 - ndvi2: Raster objects have different extents. Result for their intersection\n",
        "is returned\n",
        "# dev.off()"
      ],
      "execution_count": null,
      "outputs": []
    },
    {
      "cell_type": "code",
      "metadata": {
        "id": "baJd_JkN4R1j"
      },
      "source": [
        "cld <- colorRampPalette(c('blue','white','red'))(100)\n",
        "plot(difndvi, col=cld)"
      ],
      "execution_count": null,
      "outputs": []
    },
    {
      "cell_type": "code",
      "metadata": {
        "id": "bfYm8Dsq4Ujs"
      },
      "source": [
        "# RStoolbox::spectralIndices\n",
        "vi1 <- spectralIndices(defor1, green = 3, red = 2, nir = 1)\n",
        "## Warning: EVI/EVI2 parameters L_evi, G, C1 and C2 are defined for reflectance [0,1] but\n",
        "img values are outside of this range.\n",
        "## If you are using scaled reflectance values please provide the scaleFactor argument.\n",
        "## If img is in DN or radiance it must be converted to reflectance.\n",
        "## Skipping EVI calculation.\n",
        "plot(vi1, col=cl)\n"
      ],
      "execution_count": null,
      "outputs": []
    },
    {
      "cell_type": "code",
      "metadata": {
        "id": "vWO1AM9p4Y1E"
      },
      "source": [
        "vi2 <- spectralIndices(defor2, green = 3, red = 2, nir = 1)\n",
        "## Warning: EVI/EVI2 parameters L_evi, G, C1 and C2 are defined for reflectance [0,1] but\n",
        "img values are outside of this range.\n",
        "## If you are using scaled reflectance values please provide the scaleFactor argument.\n",
        "## If img is in DN or radiance it must be converted to reflectance.\n",
        "## Skipping EVI calculation.\n",
        "plot(vi2, col=cl)\n"
      ],
      "execution_count": null,
      "outputs": []
    },
    {
      "cell_type": "code",
      "metadata": {
        "id": "7cZNyKJ34dXB"
      },
      "source": [
        "# worldwide NDVI\n",
        "plot(copNDVI)\n"
      ],
      "execution_count": null,
      "outputs": []
    },
    {
      "cell_type": "code",
      "metadata": {
        "id": "mzvnyjKn4f9v"
      },
      "source": [
        "# Pixels with values 253, 254 and 255 (water) will be set as NA’s.\n",
        "copNDVI <- reclassify(copNDVI, cbind(253:255, NA))\n",
        "plot(copNDVI)\n",
        "# rasterVis package needed:\n",
        "levelplot(copNDVI)\n"
      ],
      "execution_count": null,
      "outputs": []
    }
  ]
}