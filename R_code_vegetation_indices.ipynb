{
  "nbformat": 4,
  "nbformat_minor": 0,
  "metadata": {
    "colab": {
      "name": "R_code_vegetation_indices.ipynb",
      "provenance": [],
      "authorship_tag": "ABX9TyOS/y1wLghCYgqhX789UhOL"
    },
    "kernelspec": {
      "name": "ir",
      "display_name": "R"
    },
    "language_info": {
      "name": "R"
    }
  },
  "cells": [
    {
      "cell_type": "markdown",
      "metadata": {
        "id": "WfzIAI-J6TEO"
      },
      "source": [
        "<table class=\"ee-notebook-buttons\" align=\"left\"><td>\n",
        "<a target=\"_blank\"  href=\"https://colab.research.google.com/github/biagiominio/Remote_sensing_2021/blob/main/R_code_vegetation_indices.ipynb\">\n",
        "    <img src=\"https://www.tensorflow.org/images/colab_logo_32px.png\" /> Run in Google Colab</a>\n",
        "</td><td>\n",
        "<a target=\"_blank\"  href=\"https://github.com/biagiominio/Remote_sensing_2021/blob/main/R_code_vegetation_indices.ipynb\"><img width=32px src=\"https://www.tensorflow.org/images/GitHub-Mark-32px.png\" /> View source on GitHub</a></td></table>"
      ]
    },
    {
      "cell_type": "markdown",
      "metadata": {
        "id": "DemO_D4DNTOw"
      },
      "source": [
        "# Vegetation reflectance\n",
        "Vegetation absorbs solar radiation in different bands, that is in different frequency ranges and wavelengths, and emits a different percentage of it back into them. \n",
        "The percentage of refracted radiation varies with plant health and water stress.\n",
        "\n",
        "<p align=\"center\">\n",
        "  <img width=\"800\" height=\"400\" src=\"https://skclivinglandscapes.org/remote_sensing/page-2/files/small_1409.png\">\n",
        "</p>\n",
        "\n",
        "To understand the use of vegetation reflectance in remote sensing we use the image of [Mato Grosso](https://earthobservatory.nasa.gov/images/35891/deforestation-in-mato-grosso-brazil) in Brazil. In particular, the satellite images of the same area collected in 1992 and 2006 will be used.\n",
        "The [1992](https://eoimages.gsfc.nasa.gov/images/imagerecords/35000/35891/matogrosso_l5_1992219_lrg.jpg) image was acquired on August 6 using the Thematic Mapper sensor aboard NASA's Landsat 5 satellite. The [2006](https://eoimages.gsfc.nasa.gov/images/imagerecords/35000/35891/matogrosso_ast_2006209_lrg.jpg) image was detected on July 28 by the Advanced Spaceborne Thermal Emission and Reflection Radiometer (ASTER) sensor on NASA's Terra satellite.\n"
      ]
    },
    {
      "cell_type": "code",
      "metadata": {
        "id": "sIBZqCaW5Xuz"
      },
      "source": [
        "mato_grosso_1992_url <- \"https://eoimages.gsfc.nasa.gov/images/imagerecords/35000/35891/matogrosso_l5_1992219_lrg.jpg\"\n",
        "mato_grosso_2006_url <- \"https://eoimages.gsfc.nasa.gov/images/imagerecords/35000/35891/matogrosso_ast_2006209_lrg.jpg\""
      ],
      "execution_count": 1,
      "outputs": []
    },
    {
      "cell_type": "markdown",
      "metadata": {
        "id": "CWcyue8oJuZe"
      },
      "source": [
        "The [download.file](https://www.rdocumentation.org/packages/utils/versions/3.6.2/topics/download.file) function can be used to download a file from the Internet. \n",
        "```\n",
        "download.file(url, destfile)\n",
        "```\n",
        "In the function the `url` argument sets the resource to be downloaded and the `destfile` a character string with which the downloaded file is named."
      ]
    },
    {
      "cell_type": "code",
      "metadata": {
        "id": "2VwQSAU5NkR_"
      },
      "source": [
        "download.file(mato_grosso_1992_url, \"Mato_Grosso_1992.jpg\")\n",
        "download.file(mato_grosso_2006_url, \"Mato_Grosso_2006.jpg\")"
      ],
      "execution_count": null,
      "outputs": []
    },
    {
      "cell_type": "markdown",
      "metadata": {
        "id": "BW1pMkXoUatK"
      },
      "source": [
        "## Study area\n",
        "\n",
        "The state of Mato Grosso is home to the Pantanal complex, the largest floodplain in the world, as well as the second largest ecosystem in the world after the nearby Amazon rainforest. \n",
        "The great biodiversity of these areas is threatened by the recent conversion of wetlands and forests into agricultural areas.\n",
        "\n",
        "<p align=\"center\">\n",
        "  <img  width=\"800\" height=\"400\" src=\"https://www.sospantanal.org.br/wp-content/uploads/2020/11/PANTANAL_MS_1008_02554.jpg\">\n",
        "</p>\n",
        "\n",
        "A 2006 study found that Brazilian mechanized agriculture increased by more than 3.6 million hectares between 2001 and 2004, growing by more than 540.000 hectares in Mato Grosso alone. Logging for grazing was still the main cause of deforestation at the time, but the contribution of large agricultural clearings, such as soybean plantations, was increasing.\n",
        "\n",
        "\n",
        "\n"
      ]
    },
    {
      "cell_type": "markdown",
      "metadata": {
        "id": "aUjXwyfVb_jM"
      },
      "source": [
        "## Install R packages\n",
        "The [install.packages](https://www.rdocumentation.org/packages/utils/versions/3.6.2/topics/install.packages) function is used to download and install packages from CRAN-like repositories.\n",
        "To install multiple packages at the same time, you define a vector that contains the names of the packages to be installed.\n",
        "\n",
        "The [raster](https://www.rdocumentation.org/packages/raster/versions/3.4-10) package defines classes and methods for spatial raster data access and manipulation. \n",
        "\n",
        "The [rasterVis](https://www.rdocumentation.org/packages/rasterVis/versions/0.50.2) package complements raster providing a set of methods for enhanced visualization and interaction.\n",
        "The [rgdal](https://www.rdocumentation.org/packages/rgdal/versions/1.5-23) package provides links to the [GDAL](https://gdal.org/) library (Geospatial Data Abstraction Library) and access to projection/transformation operations from the \"*PROJ*\" library.\n",
        "\n",
        "[RStoolbox](https://www.rdocumentation.org/packages/RStoolbox/versions/0.2.6) is an package providing a wide range of tools for your every-day remote sensing processing needs. The available tool-set covers many aspects for remote sensing image processing and analysis such as calculating spectral indices, principal component transformation, unsupervised and supervised classification or fractional cover analyses.\n",
        "\n",
        "The [rasterdiv](https://www.rdocumentation.org/packages/rasterdiv/versions/0.2-3) package provides functions to calculate indices of diversity on numerical matrices based on information theory. The rationale behind the package is described in *Rocchini et al.* [*(2017*](https://www.sciencedirect.com/science/article/abs/pii/S1470160X16304319) and [*2021)*](https://onlinelibrary.wiley.com/doi/10.1111/geb.13270)"
      ]
    },
    {
      "cell_type": "code",
      "metadata": {
        "id": "l10HaqN7AZAT"
      },
      "source": [
        "packages <- c(\"raster\", \"RStoolbox\", \"rgdal\", \"rasterdiv\", \"rasterVis\")\n",
        "install.packages(packages)"
      ],
      "execution_count": null,
      "outputs": []
    },
    {
      "cell_type": "markdown",
      "metadata": {
        "id": "HivL27NllC4t"
      },
      "source": [
        "The [library](https://www.rdocumentation.org/packages/base/versions/3.6.2/topics/library) function is used to load previously installed packages.\n",
        "Using the [lapply](https://www.rdocumentation.org/packages/base/versions/3.6.2/topics/lapply) function we simultaneously apply the `library()` function to all elements of the vector containing the packages.\n",
        "\n"
      ]
    },
    {
      "cell_type": "code",
      "metadata": {
        "id": "PTJfZZmyt8Gi"
      },
      "source": [
        "lapply(packages , library, character.only = TRUE)"
      ],
      "execution_count": null,
      "outputs": []
    },
    {
      "cell_type": "markdown",
      "metadata": {
        "id": "Cz0OtbKUou7x"
      },
      "source": [
        "## Reading spatial data\n",
        "To read and view a multilevel object it is common to use the [brick](https://www.rdocumentation.org/packages/raster/versions/3.4-5/topics/brick) function (RasterBrick object). \n",
        "\n",
        "Explore the properties of the `mato_grosso_1992` and `mato_grosso_2006` object.\n",
        "\n"
      ]
    },
    {
      "cell_type": "code",
      "metadata": {
        "id": "ICF4_hiO37HX"
      },
      "source": [
        "mato_grosso_1992 <- brick( \"Mato_Grosso_1992.jpg\")\n",
        "mato_grosso_1992"
      ],
      "execution_count": null,
      "outputs": []
    },
    {
      "cell_type": "markdown",
      "metadata": {
        "id": "z0d4dIXNzi16"
      },
      "source": [
        "The brick object has three bands that correspond to the following portions of the electromagnetic spectrum:\n",
        "\n",
        "$\\mathsf{B1}$ = Near Infrared; \n",
        "$\\mathsf{B2}$ = Red;\n",
        "$\\mathsf{B3}$ = Green;\n",
        "\n",
        "Change the names of a raster object using the [names](https://www.rdocumentation.org/packages/base/versions/3.6.2/topics/names) function.\n"
      ]
    },
    {
      "cell_type": "code",
      "metadata": {
        "id": "WqqsCHDGdKod"
      },
      "source": [
        "names(mato_grosso_1992) <- c(\"nir\", \"red\", \"green\")\n",
        "mato_grosso_1992"
      ],
      "execution_count": null,
      "outputs": []
    },
    {
      "cell_type": "code",
      "metadata": {
        "id": "tFwr3hI3VV5G"
      },
      "source": [
        "mato_grosso_2006 <- brick( \"Mato_Grosso_2006.jpg\")\n",
        "names(mato_grosso_2006) <- c(\"nir\", \"red\", \"green\")\n",
        "mato_grosso_2006"
      ],
      "execution_count": null,
      "outputs": []
    },
    {
      "cell_type": "markdown",
      "metadata": {
        "id": "4uv4JQpYp5K0"
      },
      "source": [
        "The two images have a different extension and this could be a problem when comparing pixels or intersections. \n",
        "\n",
        "Let's see how to make the extension of the two images equal."
      ]
    },
    {
      "cell_type": "code",
      "metadata": {
        "id": "gXhj73rrSF4c"
      },
      "source": [
        "mato_grosso_2006@extent <- mato_grosso_1992@extent\n",
        "mato_grosso_2006"
      ],
      "execution_count": null,
      "outputs": []
    },
    {
      "cell_type": "markdown",
      "metadata": {
        "id": "JhLIFNxWtEgo"
      },
      "source": [
        "Now the `mato_grosso_1992` image has the same extension as the `mato_grosso_2006` object, but has a different resolution and dimension.\n",
        "\n",
        "To work around this problem, reduce the resolution of the `mato_grosso_2006` image by enlarging the pixels until they are the same size as the `mato_grosso_1992` object.\n",
        "To create a new RasterBrick object with a lower resolution use the [aggregate](https://www.rdocumentation.org/packages/raster/versions/3.4-10/topics/aggregate) function of the `raster` package."
      ]
    },
    {
      "cell_type": "code",
      "metadata": {
        "id": "kyCM1c6Dtqe8"
      },
      "source": [
        "mato_grosso_2006.res <- aggregate(mato_grosso_2006, fun=mean, fact=2)\n",
        "mato_grosso_2006.res"
      ],
      "execution_count": null,
      "outputs": []
    },
    {
      "cell_type": "markdown",
      "metadata": {
        "id": "PON7qgfLRyY_"
      },
      "source": [
        "## Visualization of spatial data\n",
        "Several generic functions have been implemented for \"raster\" objects to create maps and other plot types. For example, use [plot](https://www.rdocumentation.org/packages/raster/versions/3.4-5/topics/plot) function to create a map of a raster object.\n",
        "In addition, individual bands can be combined into a single image by assigning individual layers or bands to one of the three color channels (red, green and blue). \n",
        "The [plotRGB](https://www.rdocumentation.org/packages/raster/versions/3.4-5/topics/plotRGB) function can be used to make \"true (or false) color images\" from multi-band satellite images.\n",
        "\n",
        "Use the [par](https://www.rdocumentation.org/packages/graphics/versions/3.6.2/topics/par) function to compare the images of Mato Grosso over the two different years.\n",
        "Export the image using the [pdf](https://www.rdocumentation.org/packages/grDevices/versions/3.6.2/topics/pdf) function to enlarge it better and view the results.\n",
        "\n",
        "N.B. always use the `dev.off()` function to manage the correct closing and loading of the graphics device.\n"
      ]
    },
    {
      "cell_type": "code",
      "metadata": {
        "id": "g8DtZq5z3-9m"
      },
      "source": [
        "# pdf(file = '/content/compare.pdf')\n",
        "par(mfrow=c(1,2))\n",
        "plotRGB(mato_grosso_1992.res, r=1, g=2, b=3, stretch=\"lin\")\n",
        "plotRGB(mato_grosso_2006, r=1, g=2, b=3, stretch=\"lin\")\n",
        "dev.off()"
      ],
      "execution_count": null,
      "outputs": []
    },
    {
      "cell_type": "markdown",
      "metadata": {
        "id": "aqwx1nF3tCtW"
      },
      "source": [
        "In both of these false-color images, red indicates vegetation, and the brighter the red, the denser the vegetation. \n",
        "The Rio Peixoto de Azevedo appears pale blue, nearly white, in 1992, perhaps a combination of reflective sediment or sunlight glinting off the water.\n",
        "The most conspicuous difference between the images is the widespread forest clearing visible as rectangles of gray-beige that had occurred by 2006. \n",
        "The most intense areas of clearing appear along roadways."
      ]
    },
    {
      "cell_type": "markdown",
      "metadata": {
        "id": "inJ2Aw_1PiX1"
      },
      "source": [
        "## Vegetation indices  \n",
        "Vegetation indices are designed to maximize sensitivity to the vegetation characteristics while minimizing confounding factors such as soil background reflectance, directional, or atmospheric effects. The most commonly used vegetation indices utilize the information contained in the red and near-infrared (NIR) canopy reflectances or radiances.\n",
        "\n",
        "<p align=\"center\">\n",
        "  <img width=\"700\" height=\"400\"src=\"https://static.eos.com/wp-content/uploads/2020/07/tree.jpg\">\n",
        "</p>\n"
      ]
    },
    {
      "cell_type": "markdown",
      "metadata": {
        "id": "92xtmR_rZBGy"
      },
      "source": [
        "### Difference vegetation index (DVI)\n",
        "Probably the simplest vegetation index. \n",
        "\n",
        "$DVI={NIR}-{RED}$\n",
        "\n",
        "This index distinguishes between soil and vegetation, but it does not account for the difference between reflectance and radiance caused by atmospheric effects or shadows.\n"
      ]
    },
    {
      "cell_type": "code",
      "metadata": {
        "id": "wT2LOE114CrW"
      },
      "source": [
        "dvi_1992 <- mato_grosso_1992$nir - mato_grosso_1992$red\n",
        "dvi_2006 <- mato_grosso_2006.res$nir - mato_grosso_2006.res$red"
      ],
      "execution_count": null,
      "outputs": []
    },
    {
      "cell_type": "markdown",
      "metadata": {
        "id": "Epfv0rOP6Qrb"
      },
      "source": [
        "Use function [colorRampPalette](https://www.rdocumentation.org/packages/dichromat/versions/1.1/topics/colorRampPalette) to create a continuous color scale divided into n-levels.\n"
      ]
    },
    {
      "cell_type": "code",
      "metadata": {
        "id": "--8140CmbZSM"
      },
      "source": [
        "cl <- colorRampPalette(c('darkblue','yellow','red','black'))(100) # specifying a color scheme"
      ],
      "execution_count": null,
      "outputs": []
    },
    {
      "cell_type": "markdown",
      "metadata": {
        "id": "VLtiTcGkaL6u"
      },
      "source": [
        "Use [plot](https://www.rdocumentation.org/packages/raster/versions/3.4-5/topics/plot) function to create a map of a raster object.\n",
        "Use the `par` function to compare the DVI images of Mato Grosso over the two different years. Export the image using the `pdf` function to enlarge it better and view the results."
      ]
    },
    {
      "cell_type": "code",
      "metadata": {
        "id": "tBrAt8e54J7h"
      },
      "source": [
        "pdf(file = '/content/compare_dvi.pdf')\n",
        "par(mfrow=c(1,2))\n",
        "plot(dvi_1992, col=cl, main=\"DVI at time 1992\")\n",
        "plot(dvi_2006, col=cl, main=\"DVI at time 2006\")\n",
        "dev.off()"
      ],
      "execution_count": null,
      "outputs": []
    },
    {
      "cell_type": "markdown",
      "metadata": {
        "id": "NU9RGKOENcG1"
      },
      "source": [
        "### Normalized difference vegetation index (NDVI)\n",
        "Surely the most used as a vegetation index, it represents a good measure of healthy and green vegetation.\n",
        "The combination of its normalized difference formulation and use of the highest absorption and reflectance regions of chlorophyll make it robust over a wide range of conditions. \n",
        "It can, however, saturate in dense vegetation conditions when LAI (Leaf Area Index) becomes high.\n",
        "\n",
        "$$NDVI=\\frac{NIR-RED}{NIR+RED}$$\n",
        "\n",
        "The value of this index ranges from −1 to 1. The common range for green vegetation is 0.2–0.8."
      ]
    },
    {
      "cell_type": "code",
      "metadata": {
        "id": "8FjRJB2_iPE7"
      },
      "source": [
        "ndvi_1992 <- (mato_grosso_1992$nir - mato_grosso_1992$red)/(mato_grosso_1992$nir + mato_grosso_1992$red)\n",
        "ndvi_2006 <- (mato_grosso_2006.res$nir - mato_grosso_2006.res$red)/(mato_grosso_2006.res$nir + mato_grosso_2006.res$red)"
      ],
      "execution_count": null,
      "outputs": []
    },
    {
      "cell_type": "code",
      "metadata": {
        "id": "B_40F4qCJfiz"
      },
      "source": [
        "pdf(file = '/content/compare_ndvi.pdf')\n",
        "par(mfrow=c(1,2))\n",
        "plot(ndvi_1992, col=cl, main=\"NDVI at time 1992\")\n",
        "plot(ndvi_2006, col=cl, main=\"NDVI at time 2006\")\n",
        "dev.off()"
      ],
      "execution_count": null,
      "outputs": []
    },
    {
      "cell_type": "markdown",
      "metadata": {
        "id": "ulOVVfBb-5XC"
      },
      "source": [
        "## Time difference vegetation images\n",
        "Visualize the areas with the greatest forest loss by calculating the difference in the VIs of Mato Grosso between 1992 and 2006.\n",
        "In this case, shades of red indicate areas of greatest forest loss with much higher VI values in 1992 than in 2006.\n",
        "Conversely, all areas with lower VI values in 1992 than in 2006 have negative values and appear in shades of blue. While all those areas with similar VI values for both 1992 and 2006 appear white.\n"
      ]
    },
    {
      "cell_type": "code",
      "metadata": {
        "id": "CH30ZUz04MXn"
      },
      "source": [
        "# DVI\n",
        "pdf(file='/content/difference_dvi.pdf')\n",
        "dif_dvi <- dvi_1992 - dvi_2006\n",
        "cld <- colorRampPalette(c('blue','white','red'))(300)\n",
        "plot(dif_dvi, col=cld, axes=FALSE)\n",
        "dev.off()"
      ],
      "execution_count": null,
      "outputs": []
    },
    {
      "cell_type": "code",
      "metadata": {
        "id": "BuvOSb-bmQBI"
      },
      "source": [
        "# NDVI\n",
        "pdf(file = \"/content/difference_ndvi.pdf\")\n",
        "dif_ndvi <- ndvi_1992 - ndvi_2006\n",
        "cld <- colorRampPalette(c('blue','white','red'))(100)\n",
        "plot(dif_ndvi, col=cld, axes=FALSE)\n",
        "dev.off()"
      ],
      "execution_count": null,
      "outputs": []
    },
    {
      "cell_type": "markdown",
      "metadata": {
        "id": "VG20D5m6bTVk"
      },
      "source": [
        "## Other vegetation indices\n",
        "Various vegetation indices are proposed in the literature to emphasize a specific characteristic of the vegetation or to minimize the influence of other factors.\n",
        "\n",
        "In general, the vegetation indices can be divided into several categories:\n",
        "* Intrinsic indices, which only consider reflectance (e.g. RVI, DVI, NDVI);\n",
        "* Indices relative to the ground line, which reduce the effect of\n",
        "soil (e.g. PVI, SAVI);\n",
        "* Corrected indices for atmospheric interference (e.g. ARVI, GEMI).\n",
        "\n",
        "Use the [spectralIndices](https://www.rdocumentation.org/packages/RStoolbox/versions/0.1.3/topics/spectralIndices) function to apply thirty different vegetation indices to the images.\n",
        "Select one or more indexes of your choice by specifying the `indices` argument.\n",
        "Note that to use some of the vegetation indices it is necessary to have images with additional parameters."
      ]
    },
    {
      "cell_type": "code",
      "metadata": {
        "id": "bfYm8Dsq4Ujs"
      },
      "source": [
        "vegetation_indices_1992 <- RStoolbox::spectralIndices(mato_grosso_1992, green = 3, red = 2, nir = 1)\n",
        "plot(vegetation_indices_1992, col=cl)"
      ],
      "execution_count": null,
      "outputs": []
    },
    {
      "cell_type": "markdown",
      "metadata": {
        "id": "KJSKCFSupPz3"
      },
      "source": [
        "Repeat the same procedure for the 2006 image."
      ]
    },
    {
      "cell_type": "code",
      "metadata": {
        "id": "vWO1AM9p4Y1E"
      },
      "source": [
        "idx = c(\"DVI\",\"NDVI\",\"TVI\",\"GEMI\",\"GNDVI\",\"NDWI\", \"NRVI\",\"SAVI\",\"WDVI\")\n",
        "vegetation_indices_2006 <- RStoolbox::spectralIndices(mato_grosso_2006.res, \n",
        "                                                      green = 3, red = 2, nir = 1,\n",
        "                                                      indices = idx)\n",
        "pdf(file = \"/content/vegetation_indices_2006.pdf\")                                                      \n",
        "plot(vegetation_indices_2006, col=cl)\n",
        "dev.off()"
      ],
      "execution_count": null,
      "outputs": []
    }
  ]
}