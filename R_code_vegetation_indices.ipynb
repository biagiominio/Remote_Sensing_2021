{
  "nbformat": 4,
  "nbformat_minor": 0,
  "metadata": {
    "colab": {
      "name": "R_code_vegetation_indices.ipynb",
      "provenance": [],
      "authorship_tag": "ABX9TyMdun3AiRIS7WBfujiJwPO0"
    },
    "kernelspec": {
      "name": "ir",
      "display_name": "R"
    },
    "language_info": {
      "name": "R"
    }
  },
  "cells": [
    {
      "cell_type": "markdown",
      "metadata": {
        "id": "WfzIAI-J6TEO"
      },
      "source": [
        "<table class=\"ee-notebook-buttons\" align=\"left\"><td>\n",
        "<a target=\"_blank\"  href=\"https://colab.research.google.com/github/biagiominio/Remote_sensing_2021/blob/main/R_code_vegetation_indices.ipynb\">\n",
        "    <img src=\"https://www.tensorflow.org/images/colab_logo_32px.png\" /> Run in Google Colab</a>\n",
        "</td><td>\n",
        "<a target=\"_blank\"  href=\"https://github.com/biagiominio/Remote_sensing_2021/blob/main/R_code_vegetation_indices.ipynb\"><img width=32px src=\"https://www.tensorflow.org/images/GitHub-Mark-32px.png\" /> View source on GitHub</a></td></table>"
      ]
    },
    {
      "cell_type": "markdown",
      "metadata": {
        "id": "_UkpOdo-8YBw"
      },
      "source": [
        "# Deforestation in Mato Grosso, Brazil\n",
        "\n",
        "An inland state of central Brazil, deep in the Amazon interior, Mato Grosso was long isolated from the outside world. A railroad, followed by highways and airplanes, eventually connected this state with other regions in the twentieth century. By the early twenty-first century, modern technology had clearly reached Mato Grosso—and produced widespread change.\n",
        "\n",
        "The Thematic Mapper on NASA’s Landsat 5 satellite captured the top image of part of Mato Grosso on August 6, 1992. The Advanced Spaceborne Thermal Emission and Reflection Radiometer (ASTER) on NASA’s Terra satellite captured the bottom image of the same area on July 28, 2006. In both of these false-color images, red indicates vegetation, and the brighter the red, the denser the vegetation. The Rio Peixoto de Azevedo appears pale blue, nearly white, in 1992, perhaps a combination of reflective sediment or sunlight glinting off the water.\n",
        "\n",
        "The most conspicuous difference between the images is the widespread forest clearing—visible as rectangles of gray-beige—that had occurred by 2006. The most intense areas of clearing appear along roadways, such as road MT-419, which runs east to west north of the river. A 2006 study found that Brazil’s mechanized agriculture increased by more than 3.6 million hectares (8.9 million acres) between 2001 and 2004, growing more than 540,000 hectares (1.3 million acres) in Mato Grosso alone. Clearing for pasture was still the leading cause of deforestation at that time, but the contribution from large agricultural clearings, such as for soy plantations, was increasing.\n",
        "\n",
        "<table>\n",
        "  <tr>\n",
        "     <td>Mato Grosso on August 6, 1992</td>\n",
        "     <td>Mato Grosso on July 28, 2006</td>\n",
        "  </tr>\n",
        "  <tr>\n",
        "    <td><img src=\"https://eoimages.gsfc.nasa.gov/images/imagerecords/35000/35891/matogrosso_l5_1992219_lrg.jpg\" width=500</td>\n",
        "    <td><img src=\"https://eoimages.gsfc.nasa.gov/images/imagerecords/35000/35891/matogrosso_ast_2006209_lrg.jpg\" width=500</td>\n",
        "  </tr>\n",
        "</table>\n",
        "\n",
        "<font size=\"2\"> [*NASA images*](https://earthobservatory.nasa.gov/images/35891/deforestation-in-mato-grosso-brazil) *created by Jesse Allen, using Landsat data provided by the United States Geological Survey and ASTER data provided courtesy of NASA/GSFC/METI/ERSDAC/JAROS, and U.S./Japan ASTER Science Team. Caption by Michon Scott.*</font> "
      ]
    },
    {
      "cell_type": "code",
      "metadata": {
        "id": "sIBZqCaW5Xuz"
      },
      "source": [
        "mato_grosso_1992_url <- \"https://eoimages.gsfc.nasa.gov/images/imagerecords/35000/35891/matogrosso_l5_1992219_lrg.jpg\"\n",
        "mato_grosso_2006_url <- \"https://eoimages.gsfc.nasa.gov/images/imagerecords/35000/35891/matogrosso_ast_2006209_lrg.jpg\""
      ],
      "execution_count": 2,
      "outputs": []
    },
    {
      "cell_type": "markdown",
      "metadata": {
        "id": "CWcyue8oJuZe"
      },
      "source": [
        "The [download.file](https://www.rdocumentation.org/packages/utils/versions/3.6.2/topics/download.file) function can be used to download a file from the Internet. \n",
        "```\n",
        "download.file(url, destfile)\n",
        "```\n",
        "In the function the `url` argument sets the resource to be downloaded and the `destfile` a character string with which the downloaded file is named."
      ]
    },
    {
      "cell_type": "code",
      "metadata": {
        "id": "2VwQSAU5NkR_"
      },
      "source": [
        "download.file(mato_grosso_1992_url, \"Mato_Grosso_1992.jpg\")\n",
        "download.file(mato_grosso_2006_url, \"Mato_Grosso_2006.jpg\")"
      ],
      "execution_count": 3,
      "outputs": []
    },
    {
      "cell_type": "markdown",
      "metadata": {
        "id": "aUjXwyfVb_jM"
      },
      "source": [
        "## Install R packages\n",
        "The [install.packages](https://www.rdocumentation.org/packages/utils/versions/3.6.2/topics/install.packages) function is used to download and install packages from CRAN-like repositories.\n",
        "To install multiple packages at the same time, you define a vector that contains the names of the packages to be installed.\n",
        "\n",
        "The [raster](https://www.rdocumentation.org/packages/raster/versions/3.4-10) package defines classes and methods for spatial raster data access and manipulation. \n",
        "\n",
        "The [rasterVis](https://www.rdocumentation.org/packages/rasterVis/versions/0.50.2) package complements raster providing a set of methods for enhanced visualization and interaction.\n",
        "The [rgdal](https://www.rdocumentation.org/packages/rgdal/versions/1.5-23) package provides links to the [GDAL](https://gdal.org/) library (Geospatial Data Abstraction Library) and access to projection/transformation operations from the \"*PROJ*\" library.\n",
        "\n",
        "[RStoolbox](https://www.rdocumentation.org/packages/RStoolbox/versions/0.2.6) is an package providing a wide range of tools for your every-day remote sensing processing needs. The available tool-set covers many aspects for remote sensing image processing and analysis such as calculating spectral indices, principal component transformation, unsupervised and supervised classification or fractional cover analyses.\n",
        "\n",
        "The [rasterdiv](https://www.rdocumentation.org/packages/rasterdiv/versions/0.2-3) package provides functions to calculate indices of diversity on numerical matrices based on information theory. The rationale behind the package is described in *Rocchini et al.* [*(2017*](https://www.sciencedirect.com/science/article/abs/pii/S1470160X16304319) and [*2021)*](https://onlinelibrary.wiley.com/doi/10.1111/geb.13270)"
      ]
    },
    {
      "cell_type": "code",
      "metadata": {
        "id": "l10HaqN7AZAT"
      },
      "source": [
        "packages <- c(\"raster\", \"RStoolbox\", \"rgdal\", \"rasterdiv\", \"rasterVis\")\n",
        "install.packages(packages)"
      ],
      "execution_count": null,
      "outputs": []
    },
    {
      "cell_type": "markdown",
      "metadata": {
        "id": "HivL27NllC4t"
      },
      "source": [
        "The [library](https://www.rdocumentation.org/packages/base/versions/3.6.2/topics/library) function is used to load previously installed packages.\n",
        "Using the [lapply](https://www.rdocumentation.org/packages/base/versions/3.6.2/topics/lapply) function we simultaneously apply the `library()` function to all elements of the vector containing the packages.\n",
        "\n"
      ]
    },
    {
      "cell_type": "code",
      "metadata": {
        "id": "PTJfZZmyt8Gi"
      },
      "source": [
        "lapply(packages , library, character.only = TRUE)"
      ],
      "execution_count": null,
      "outputs": []
    },
    {
      "cell_type": "markdown",
      "metadata": {
        "id": "Cz0OtbKUou7x"
      },
      "source": [
        "## Reading spatial data\n",
        "To read and view a multilevel object it is common to use the [brick](https://www.rdocumentation.org/packages/raster/versions/3.4-5/topics/brick) function (RasterBrick object). \n",
        "\n",
        "Explore the properties of the `mato_grosso_1992` and `mato_grosso_2006` object.\n",
        "\n"
      ]
    },
    {
      "cell_type": "code",
      "metadata": {
        "id": "ICF4_hiO37HX",
        "colab": {
          "base_uri": "https://localhost:8080/",
          "height": 170
        },
        "outputId": "d43a1690-9ff9-497e-c3cd-d60b2fe73d08"
      },
      "source": [
        "mato_grosso_1992 <- brick( \"Mato_Grosso_1992.jpg\")\n",
        "mato_grosso_1992"
      ],
      "execution_count": 81,
      "outputs": [
        {
          "output_type": "display_data",
          "data": {
            "text/plain": [
              "class      : RasterBrick \n",
              "dimensions : 1500, 1200, 1800000, 3  (nrow, ncol, ncell, nlayers)\n",
              "resolution : 1, 1  (x, y)\n",
              "extent     : 0, 1200, 0, 1500  (xmin, xmax, ymin, ymax)\n",
              "crs        : NA \n",
              "source     : Mato_Grosso_1992.jpg \n",
              "names      : Mato_Grosso_1992.1, Mato_Grosso_1992.2, Mato_Grosso_1992.3 \n",
              "min values :                  0,                  0,                  0 \n",
              "max values :                255,                255,                255 \n"
            ]
          },
          "metadata": {
            "tags": []
          }
        }
      ]
    },
    {
      "cell_type": "markdown",
      "metadata": {
        "id": "z0d4dIXNzi16"
      },
      "source": [
        "The brick object has three bands that correspond to the following portions of the electromagnetic spectrum:\n",
        "\n",
        "$\\mathsf{B1}$ = Near Infrared; \n",
        "$\\mathsf{B2}$ = Red;\n",
        "$\\mathsf{B3}$ = Green;\n",
        "\n",
        "Change the names of a raster object using the [names](https://www.rdocumentation.org/packages/base/versions/3.6.2/topics/names) function.\n"
      ]
    },
    {
      "cell_type": "code",
      "metadata": {
        "id": "WqqsCHDGdKod",
        "colab": {
          "base_uri": "https://localhost:8080/",
          "height": 170
        },
        "outputId": "39c4f6fa-83c2-497b-8921-145e8dda7eff"
      },
      "source": [
        "names(mato_grosso_1992) <- c(\"nir\", \"red\", \"green\")\n",
        "mato_grosso_1992"
      ],
      "execution_count": 82,
      "outputs": [
        {
          "output_type": "display_data",
          "data": {
            "text/plain": [
              "class      : RasterBrick \n",
              "dimensions : 1500, 1200, 1800000, 3  (nrow, ncol, ncell, nlayers)\n",
              "resolution : 1, 1  (x, y)\n",
              "extent     : 0, 1200, 0, 1500  (xmin, xmax, ymin, ymax)\n",
              "crs        : NA \n",
              "source     : Mato_Grosso_1992.jpg \n",
              "names      : nir, red, green \n",
              "min values :   0,   0,     0 \n",
              "max values : 255, 255,   255 \n"
            ]
          },
          "metadata": {
            "tags": []
          }
        }
      ]
    },
    {
      "cell_type": "code",
      "metadata": {
        "id": "tFwr3hI3VV5G",
        "colab": {
          "base_uri": "https://localhost:8080/",
          "height": 170
        },
        "outputId": "20fc924e-2408-44d5-d3ea-f8e7be59f9be"
      },
      "source": [
        "mato_grosso_2006 <- brick( \"Mato_Grosso_2006.jpg\")\n",
        "names(mato_grosso_2006) <- c(\"nir\", \"red\", \"green\")\n",
        "mato_grosso_2006"
      ],
      "execution_count": 83,
      "outputs": [
        {
          "output_type": "display_data",
          "data": {
            "text/plain": [
              "class      : RasterBrick \n",
              "dimensions : 3000, 2400, 7200000, 3  (nrow, ncol, ncell, nlayers)\n",
              "resolution : 1, 1  (x, y)\n",
              "extent     : 0, 2400, 0, 3000  (xmin, xmax, ymin, ymax)\n",
              "crs        : NA \n",
              "source     : Mato_Grosso_2006.jpg \n",
              "names      : nir, red, green \n",
              "min values :   0,   0,     0 \n",
              "max values : 255, 255,   255 \n"
            ]
          },
          "metadata": {
            "tags": []
          }
        }
      ]
    },
    {
      "cell_type": "markdown",
      "metadata": {
        "id": "4uv4JQpYp5K0"
      },
      "source": [
        "The two images have a different extension and this could be a problem when comparing pixels or intersections. \n",
        "\n",
        "Let's see how to make the extension of the two images equal."
      ]
    },
    {
      "cell_type": "code",
      "metadata": {
        "colab": {
          "base_uri": "https://localhost:8080/",
          "height": 170
        },
        "id": "gXhj73rrSF4c",
        "outputId": "c7c0932c-57c7-42ea-f9b0-f2c6c3ca43af"
      },
      "source": [
        "mato_grosso_2006@extent <- mato_grosso_1992@extent\n",
        "mato_grosso_2006"
      ],
      "execution_count": 89,
      "outputs": [
        {
          "output_type": "display_data",
          "data": {
            "text/plain": [
              "class      : RasterBrick \n",
              "dimensions : 3000, 2400, 7200000, 3  (nrow, ncol, ncell, nlayers)\n",
              "resolution : 0.5, 0.5  (x, y)\n",
              "extent     : 0, 1200, 0, 1500  (xmin, xmax, ymin, ymax)\n",
              "crs        : NA \n",
              "source     : Mato_Grosso_2006.jpg \n",
              "names      : nir, red, green \n",
              "min values :   0,   0,     0 \n",
              "max values : 255, 255,   255 \n"
            ]
          },
          "metadata": {
            "tags": []
          }
        }
      ]
    },
    {
      "cell_type": "markdown",
      "metadata": {
        "id": "JhLIFNxWtEgo"
      },
      "source": [
        "Now the `mato_grosso_1992` image has the same extension as the `mato_grosso_2006` object, but has a different resolution and dimension.\n",
        "\n",
        "To work around this problem, reduce the resolution of the `mato_grosso_2006` image by enlarging the pixels until they are the same size as the `mato_grosso_1992` object.\n",
        "To create a new RasterBrick object with a lower resolution use the [aggregate](https://www.rdocumentation.org/packages/raster/versions/3.4-10/topics/aggregate) function of the `raster` package."
      ]
    },
    {
      "cell_type": "code",
      "metadata": {
        "colab": {
          "base_uri": "https://localhost:8080/",
          "height": 170
        },
        "id": "kyCM1c6Dtqe8",
        "outputId": "46472154-23ac-4b53-f90b-fb761d38a990"
      },
      "source": [
        "mato_grosso_2006.res <- aggregate(mato_grosso_2006, fun=mean, fact=2)\n",
        "mato_grosso_2006.res"
      ],
      "execution_count": 90,
      "outputs": [
        {
          "output_type": "display_data",
          "data": {
            "text/plain": [
              "class      : RasterBrick \n",
              "dimensions : 1500, 1200, 1800000, 3  (nrow, ncol, ncell, nlayers)\n",
              "resolution : 1, 1  (x, y)\n",
              "extent     : 0, 1200, 0, 1500  (xmin, xmax, ymin, ymax)\n",
              "crs        : NA \n",
              "source     : memory\n",
              "names      : nir, red, green \n",
              "min values :   0,   0,     0 \n",
              "max values : 255, 255,   255 \n"
            ]
          },
          "metadata": {
            "tags": []
          }
        }
      ]
    },
    {
      "cell_type": "markdown",
      "metadata": {
        "id": "PON7qgfLRyY_"
      },
      "source": [
        "### Visualization of spatial data\n",
        "Several generic functions have been implemented for \"raster\" objects to create maps and other plot types. For example, use [plot](https://www.rdocumentation.org/packages/raster/versions/3.4-5/topics/plot) function to create a map of a raster object.\n",
        "In addition, individual bands can be combined into a single image by assigning individual layers or bands to one of the three color channels (red, green and blue). \n",
        "The [plotRGB](https://www.rdocumentation.org/packages/raster/versions/3.4-5/topics/plotRGB) function can be used to make \"true (or false) color images\" from multi-band satellite images.\n",
        "\n",
        "Use the [par](https://www.rdocumentation.org/packages/graphics/versions/3.6.2/topics/par) function to compare the images of Mato Grosso over the two different years.\n",
        "Export the image using the [pdf](https://www.rdocumentation.org/packages/grDevices/versions/3.6.2/topics/pdf) function to enlarge it better and view the results.\n",
        "\n",
        "N.B. always use the `dev.off()` function to manage the correct closing and loading of the graphics device.\n"
      ]
    },
    {
      "cell_type": "code",
      "metadata": {
        "id": "g8DtZq5z3-9m"
      },
      "source": [
        "pdf(file = '/content/compare.pdf')\n",
        "par(mfrow=c(1,2))\n",
        "plotRGB(mato_grosso_1992.res, r=1, g=2, b=3, stretch=\"lin\")\n",
        "plotRGB(mato_grosso_2006, r=1, g=2, b=3, stretch=\"lin\")\n",
        "dev.off()"
      ],
      "execution_count": null,
      "outputs": []
    },
    {
      "cell_type": "markdown",
      "metadata": {
        "id": "DemO_D4DNTOw"
      },
      "source": [
        "## Vegetation indices\n",
        "Vegetation indices are designed to maximize sensitivity to the vegetation characteristics while minimizing confounding factors such as soil background reflectance, directional, or atmospheric effects.\n",
        "The most commonly used vegetation indices utilize the information contained in the red and near-infrared (NIR) canopy reflectances or radiances.\n"
      ]
    },
    {
      "cell_type": "markdown",
      "metadata": {
        "id": "92xtmR_rZBGy"
      },
      "source": [
        "### Difference vegetation index (DVI)\n",
        "Probably the simplest vegetation index. \n",
        "\n",
        "$DVI=NIR−RED$\n",
        "\n",
        "This index distinguishes between soil and vegetation, but it does not account for the difference between reflectance and radiance caused by atmospheric effects or shadows.\n"
      ]
    },
    {
      "cell_type": "code",
      "metadata": {
        "id": "wT2LOE114CrW"
      },
      "source": [
        "dvi_1992 <- mato_grosso_1992$nir - mato_grosso_1992$red\n",
        "dvi_2006 <- mato_grosso_2006.res$nir - mato_grosso_2006.res$red"
      ],
      "execution_count": 86,
      "outputs": []
    },
    {
      "cell_type": "markdown",
      "metadata": {
        "id": "Epfv0rOP6Qrb"
      },
      "source": [
        "Use function [colorRampPalette](https://www.rdocumentation.org/packages/dichromat/versions/1.1/topics/colorRampPalette) to create a continuous color scale divided into n-levels.\n"
      ]
    },
    {
      "cell_type": "code",
      "metadata": {
        "id": "--8140CmbZSM"
      },
      "source": [
        "cl <- colorRampPalette(c('darkblue','yellow','red','black'))(100) # specifying a color scheme"
      ],
      "execution_count": 56,
      "outputs": []
    },
    {
      "cell_type": "markdown",
      "metadata": {
        "id": "VLtiTcGkaL6u"
      },
      "source": [
        "Use [plot](https://www.rdocumentation.org/packages/raster/versions/3.4-5/topics/plot) function to create a map of a raster object.\n",
        "Use the `par` function to compare the DVI images of Mato Grosso over the two different years. Export the image using the `pdf` function to enlarge it better and view the results."
      ]
    },
    {
      "cell_type": "code",
      "metadata": {
        "id": "tBrAt8e54J7h"
      },
      "source": [
        "pdf(file = '/content/compare_dvi.pdf')\n",
        "par(mfrow=c(1,2))\n",
        "plot(dvi_1992, col=cl, main=\"DVI at time 1992\")\n",
        "plot(dvi_2006, col=cl, main=\"DVI at time 2006\")\n",
        "dev.off()"
      ],
      "execution_count": null,
      "outputs": []
    },
    {
      "cell_type": "markdown",
      "metadata": {
        "id": "ulOVVfBb-5XC"
      },
      "source": [
        "#### Time-difference images\n",
        "Visualize the areas with the greatest forest loss by calculating the difference in the Mato Grosso DVI index between 1992 and 2006.\n",
        "In this case, shades of red indicate areas of greatest forest loss with much higher DVI values in 1992 than in 2006.\n",
        "Conversely, all areas with lower DVI values in 1992 than in 2006 have negative values and appear in shades of blue. While all those areas with similar DVI values for both 1992 and 2006 appear white.\n"
      ]
    },
    {
      "cell_type": "code",
      "metadata": {
        "id": "CH30ZUz04MXn"
      },
      "source": [
        "pdf(file='/content/difference_dvi.pdf')\n",
        "dif_dvi <- dvi_1992 - dvi_2006\n",
        "cld <- colorRampPalette(c('blue','white','red'))(300)\n",
        "plot(dif_dvi, col=cld, axes=FALSE)\n",
        "dev.off()"
      ],
      "execution_count": null,
      "outputs": []
    },
    {
      "cell_type": "markdown",
      "metadata": {
        "id": "NU9RGKOENcG1"
      },
      "source": [
        "### Normalized difference vegetation index (NDVI)\n",
        "Surely the most used as a vegetation index, it represents a good measure of healthy and green vegetation.\n",
        "The combination of its normalized difference formulation and use of the highest absorption and reflectance regions of chlorophyll make it robust over a wide range of conditions. \n",
        "It can, however, saturate in dense vegetation conditions when LAI (Leaf Area Index) becomes high.\n",
        "\n",
        "$$NDVI=\\frac{NIR-RED}{NIR+RED}$$\n",
        "\n",
        "The value of this index ranges from −1 to 1. The common range for green vegetation is 0.2–0.8."
      ]
    },
    {
      "cell_type": "code",
      "metadata": {
        "id": "8FjRJB2_iPE7"
      },
      "source": [
        "ndvi_1992 <- (mato_grosso_1992$nir - mato_grosso_1992$red)/(mato_grosso_1992$nir + mato_grosso_1992$red)\n",
        "ndvi_2006 <- (mato_grosso_2006.res$nir - mato_grosso_2006.res$red)/(mato_grosso_2006.res$nir + mato_grosso_2006.res$red)"
      ],
      "execution_count": 93,
      "outputs": []
    },
    {
      "cell_type": "code",
      "metadata": {
        "id": "BuvOSb-bmQBI"
      },
      "source": [
        "pdf(file = \"/content/difference_ndvi.pdf\")\n",
        "dif_ndvi <- ndvi_1992 - ndvi_2006\n",
        "cld <- colorRampPalette(c('blue','white','red'))(100)\n",
        "plot(dif_ndvi, col=cld, axes=FALSE)\n",
        "dev.off()"
      ],
      "execution_count": null,
      "outputs": []
    },
    {
      "cell_type": "markdown",
      "metadata": {
        "id": "VG20D5m6bTVk"
      },
      "source": [
        "### Other vegetation indices\n",
        "Various vegetation indices are proposed in the literature to emphasize a specific characteristic of the vegetation or to minimize the influence of other factors.\n",
        "\n",
        "In general, the vegetation indices can be divided into several categories:\n",
        "* Intrinsic indices, which only consider reflectance (e.g. RVI, DVI, NDVI);\n",
        "* Indices relative to the ground line, which reduce the effect of\n",
        "soil (e.g. PVI, SAVI);\n",
        "* Corrected indices for atmospheric interference (e.g. ARVI, GEMI).\n",
        "\n",
        "Use the [spectralIndices](https://www.rdocumentation.org/packages/RStoolbox/versions/0.1.3/topics/spectralIndices) function to apply thirty different vegetation indices to the images.\n",
        "Select one or more indexes of your choice by specifying the `indices` argument.\n",
        "Note that to use some of the vegetation indices it is necessary to have images with additional parameters."
      ]
    },
    {
      "cell_type": "code",
      "metadata": {
        "id": "bfYm8Dsq4Ujs"
      },
      "source": [
        "vegetation_indices_1992 <- RStoolbox::spectralIndices(mato_grosso_1992, green = 3, red = 2, nir = 1)\n",
        "plot(vegetation_indices_1992, col=cl)"
      ],
      "execution_count": null,
      "outputs": []
    },
    {
      "cell_type": "markdown",
      "metadata": {
        "id": "KJSKCFSupPz3"
      },
      "source": [
        "Repeat the same procedure for the 2006 image."
      ]
    },
    {
      "cell_type": "code",
      "metadata": {
        "id": "vWO1AM9p4Y1E"
      },
      "source": [
        "idx = c(\"DVI\",\"NDVI\",\"TVI\",\"GEMI\",\"GNDVI\",\"NDWI\", \"NRVI\",\"SAVI\",\"WDVI\")\n",
        "vegetation_indices_2006 <- RStoolbox::spectralIndices(mato_grosso_2006.res, \n",
        "                                                      green = 3, red = 2, nir = 1,\n",
        "                                                      indices = idx)\n",
        "pdf(file = \"/content/vegetation_indices_2006.pdf\")                                                      \n",
        "plot(vegetation_indices_2006, col=cl)\n",
        "dev.off()"
      ],
      "execution_count": null,
      "outputs": []
    }
  ]
}