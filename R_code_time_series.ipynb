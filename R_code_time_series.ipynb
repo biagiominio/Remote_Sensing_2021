{
  "nbformat": 4,
  "nbformat_minor": 0,
  "metadata": {
    "colab": {
      "name": "R_code_time_series.ipynb",
      "provenance": [],
      "authorship_tag": "ABX9TyMSvuDULQE2KwCgMhTstV6v"
    },
    "kernelspec": {
      "name": "ir",
      "display_name": "R"
    },
    "language_info": {
      "name": "R"
    }
  },
  "cells": [
    {
      "cell_type": "markdown",
      "metadata": {
        "id": "WfzIAI-J6TEO"
      },
      "source": [
        "<table class=\"ee-notebook-buttons\" align=\"left\"><td>\n",
        "<a target=\"_blank\"  href=\"https://colab.research.google.com/github/biagiominio/Remote_sensing_2021/blob/main/R_code_time_series.ipynb#scrollTo=WfzIAI-J6TEO\">\n",
        "    <img src=\"https://www.tensorflow.org/images/colab_logo_32px.png\" /> Run in Google Colab</a>\n",
        "</td><td>\n",
        "<a target=\"_blank\"  href=\"https://github.com/biagiominio/Remote_sensing_2021/blob/main/R_code_time_series.ipynb\"><img width=32px src=\"https://www.tensorflow.org/images/GitHub-Mark-32px.png\" /> View source on GitHub</a></td></table>"
      ]
    },
    {
      "cell_type": "markdown",
      "metadata": {
        "id": "ykrLIeWqq7wt"
      },
      "source": [
        "# Time series analysis:\n",
        "> ## Greenland increase of temperature\n",
        "> *data and code from Emanuela Cosma\n"
      ]
    },
    {
      "cell_type": "markdown",
      "metadata": {
        "id": "aUjXwyfVb_jM"
      },
      "source": [
        "## Install R packages\n",
        "The [install.packages](https://www.rdocumentation.org/packages/utils/versions/3.6.2/topics/install.packages) function is used to download and install packages from CRAN-like repositories.\n",
        "To install multiple packages at the same time, you define a vector that contains the names of the packages to be installed.\n",
        "The [raster](https://www.rdocumentation.org/packages/raster/versions/3.4-10) package defines classes and methods for spatial raster data access and manipulation. The [rasterVis](https://www.rdocumentation.org/packages/rasterVis/versions/0.50.2) package complements raster providing a set of methods for enhanced visualization and interaction.\n",
        "The [rgdal](https://www.rdocumentation.org/packages/rgdal/versions/1.5-23) package provides links to the [GDAL](https://gdal.org/) library (Geospatial Data Abstraction Library) and access to projection/transformation operations from the \"PROJ\" library.\n"
      ]
    },
    {
      "cell_type": "code",
      "metadata": {
        "id": "l10HaqN7AZAT"
      },
      "source": [
        "packages <- c(\"rgdal\", \"raster\", \"rasterVis\")\n",
        "install.packages(packages )"
      ],
      "execution_count": null,
      "outputs": []
    },
    {
      "cell_type": "markdown",
      "metadata": {
        "id": "HivL27NllC4t"
      },
      "source": [
        "The [library](https://www.rdocumentation.org/packages/base/versions/3.6.2/topics/library) function is used to load previously installed packages.\n",
        "Using the [lapply](https://www.rdocumentation.org/packages/base/versions/3.6.2/topics/lapply) function we simultaneously apply the `library()` function to all elements of the vector containing the packages."
      ]
    },
    {
      "cell_type": "code",
      "metadata": {
        "id": "PTJfZZmyt8Gi"
      },
      "source": [
        "lapply(packages , library, character.only = TRUE)"
      ],
      "execution_count": null,
      "outputs": []
    },
    {
      "cell_type": "markdown",
      "metadata": {
        "id": "FUiacmQdNfhq"
      },
      "source": [
        "Set the current working directory of the R process with the [setwd](https://www.rdocumentation.org/packages/base/versions/3.6.2/topics/getwd) function."
      ]
    },
    {
      "cell_type": "code",
      "metadata": {
        "id": "l20JpvVtlL_k"
      },
      "source": [
        "setwd(\"/content\")"
      ],
      "execution_count": null,
      "outputs": []
    },
    {
      "cell_type": "markdown",
      "metadata": {
        "id": "ElBwRpFElLqv"
      },
      "source": [
        "## Upload file\n",
        "1. Download Greenland surface temperature images [LST data]() for the years 2000, 2005, 2010 and 2015. Use this [dataset]() to obtain the 1979-2007 time series of the Greenland temperature.\n",
        "\n",
        "2. On the left side of Google Colab click on the small folder icon named file ⇒ click the Upload icon ⇒ choose the files to upload from your \"Downloads\" folder and click OK. Otherwise, drag your files to Google Colab storage. Now your files are on Google Colab!\n",
        "\n"
      ]
    },
    {
      "cell_type": "markdown",
      "metadata": {
        "id": "Cz0OtbKUou7x"
      },
      "source": [
        "## Reading spatial data\n",
        "To read and view a multilevel object it is common to use the [brick](https://www.rdocumentation.org/packages/raster/versions/3.4-5/topics/brick) function (RasterBrick object). \n",
        "In this case we use the [raster](https://www.rdocumentation.org/packages/raster/versions/3.4-5/topics/raster) function to read files with a single layer or band (RasterLayer object)."
      ]
    },
    {
      "cell_type": "code",
      "metadata": {
        "id": "-54__sFtp1-S"
      },
      "source": [
        "lst_2000 <- raster(\"lst_2000.tif\")\n",
        "lst_2005 <- raster(\"lst_2005.tif\")\n",
        "lst_2010 <- raster(\"lst_2010.tif\")\n",
        "lst_2015 <- raster(\"lst_2015.tif\")"
      ],
      "execution_count": null,
      "outputs": []
    },
    {
      "cell_type": "markdown",
      "metadata": {
        "id": "PON7qgfLRyY_"
      },
      "source": [
        "## Visualization of spatial data\n",
        "Several generic functions have been implemented for \"raster\" objects to create maps and other plot types. For example, use [plot](https://www.rdocumentation.org/packages/raster/versions/3.4-5/topics/plot) function to create a map of a raster object. Using the [par](https://www.rdocumentation.org/packages/graphics/versions/3.6.2/topics/par) function it is possible to set the parameters of the graphic output and create a multi frame of images."
      ]
    },
    {
      "cell_type": "code",
      "metadata": {
        "id": "xReEowiCp4ZU"
      },
      "source": [
        "par(mfrow=c(2,2))\n",
        "plot(lst_2000)\n",
        "plot(lst_2005)\n",
        "plot(lst_2010)\n",
        "plot(lst_2015)"
      ],
      "execution_count": null,
      "outputs": []
    },
    {
      "cell_type": "markdown",
      "metadata": {
        "id": "958l56_GGk1Q"
      },
      "source": [
        "The code above is somewhat redundant. We can use recursive functions like [lapply](https://www.rdocumentation.org/packages/base/versions/3.6.2/topics/lapply) to apply a certain function (in this case the `raster()` function) to a list of objects (for example our images of Greenland).\n",
        "Before doing this we create a list containing our images with the [list.files](https://www.rdocumentation.org/packages/base/versions/3.6.2/topics/list.files) function.\n",
        "The pattern argument allows you to select all files that have the same string part in the name."
      ]
    },
    {
      "cell_type": "code",
      "metadata": {
        "id": "KYoiH6hc7B9p"
      },
      "source": [
        "rlist <- list.files(pattern=\"lst\")\n",
        "import <- lapply(rlist, raster)"
      ],
      "execution_count": null,
      "outputs": []
    },
    {
      "cell_type": "markdown",
      "metadata": {
        "id": "qEsvjG-oJPfB"
      },
      "source": [
        "Now create a multilevel object that has a raster image for each layer or band. The new collection must be a RasterStack object with four bands one for each year. To do this we use the [stack](https://www.rdocumentation.org/packages/raster/versions/3.4-5/topics/stack) function."
      ]
    },
    {
      "cell_type": "code",
      "metadata": {
        "id": "O86hmK2nqDew"
      },
      "source": [
        "TGr <- stack(import)\n",
        "plot(TGr)"
      ],
      "execution_count": null,
      "outputs": []
    },
    {
      "cell_type": "markdown",
      "metadata": {
        "id": "ulOVVfBb-5XC"
      },
      "source": [
        "### Multi-temporal images\n",
        "Individual bands can be combined into a single image by assigning individual layers or bands to one of the three color channels (red, green and blue). \n",
        "The [plotRGB](https://www.rdocumentation.org/packages/raster/versions/3.4-5/topics/plotRGB) function can be used to make \"true (or false) color images\" from multi-band satellite images.\n",
        "In this case, the resulting color tone in the image will be linked to the combination of the different LST values for the years assigned to the three RGB bands.\n",
        "For example, we assign the year 2005 to the red band (R = 2), the year 2010 to the green band (G = 3) and the year 2015 to the blue band (B = 4). In the image, all those areas with temperature values for 2015 that are higher than the other two time levels (2005 and 2010) will appear with shades of blue.\n"
      ]
    },
    {
      "cell_type": "code",
      "metadata": {
        "id": "faI7p0rU_IiV"
      },
      "source": [
        "plotRGB(TGr, r=2, g=3, b=4, stretch=\"Lin\")"
      ],
      "execution_count": null,
      "outputs": []
    },
    {
      "cell_type": "markdown",
      "metadata": {
        "id": "Efd9YK-dQaI7"
      },
      "source": [
        "A RasterStack object can be easily represented with the [levelplot](https://www.rdocumentation.org/packages/rasterVis/versions/0.50.1/topics/levelplot-methods) function of the [rasterVis](https://www.rdocumentation.org/packages/rasterVis/versions/0.50.1) package. The `levelplot()` function allows you to create a multi-temporal frame with a subplots for each level."
      ]
    },
    {
      "cell_type": "code",
      "metadata": {
        "id": "7aDL09NMt5L1"
      },
      "source": [
        "levelplot(TGr)"
      ],
      "execution_count": null,
      "outputs": []
    },
    {
      "cell_type": "markdown",
      "metadata": {
        "id": "Epfv0rOP6Qrb"
      },
      "source": [
        "### Colour change\n",
        "Use function [colorRampPalette](https://www.rdocumentation.org/packages/dichromat/versions/1.1/topics/colorRampPalette) to create a continuous color scale divided into n-levels."
      ]
    },
    {
      "cell_type": "code",
      "metadata": {
        "id": "WMxZdJA12nzQ"
      },
      "source": [
        "cl <- colorRampPalette(c(\"blue\",\"light blue\",\"pink\",\"red\"))(100)\n",
        "# assign a title to each image and to the multi frame\n",
        "levelplot(TGr,\n",
        "          col.regions=cl, \n",
        "          # assign a title\n",
        "          main = \"LST variation in time\",\n",
        "          # rename each layer of the image\n",
        "          names.attr = c(\"July 2000\",\"July 2005\", \"July 2010\", \"July 2015\"))"
      ],
      "execution_count": null,
      "outputs": []
    },
    {
      "cell_type": "markdown",
      "metadata": {
        "id": "IjIfoHq-SP_D"
      },
      "source": [
        "## Time series visualization\n",
        "Analyze images of Greenland from 1979 to 2007.\n",
        "Uses the surface temperature values of the \"MODIS\" product. \n",
        "We get 28 total images (one for each year) that need to be uploaded to Google Colab storage. \n",
        "Create a collection of images using the `list.files()` function and convert this list into a RasterStack object with the `stack()` function."
      ]
    },
    {
      "cell_type": "code",
      "metadata": {
        "id": "8hC43pksuDfT"
      },
      "source": [
        "meltlist <- list.files(pattern=\"melt\")\n",
        "melt_import <- lapply(meltlist,raster)\n",
        "melt <- stack(melt_import)\n",
        "# multi-temporal frame\n",
        "levelplot(melt)"
      ],
      "execution_count": null,
      "outputs": []
    },
    {
      "cell_type": "markdown",
      "metadata": {
        "id": "tlylaCPtcKNe"
      },
      "source": [
        "### Export images\n",
        "The [pdf](https://www.rdocumentation.org/packages/grDevices/versions/3.6.2/topics/pdf) function starts the graphics device driver for producing PDF graphics. \n",
        "The pdf file will be named in the path (function argument) and saved on Google Colab. Click the folder icon to view all files temporarily uploaded to the machine (click the pdf name in the list to download and view the image). \n",
        "Now you can zoom in and explore each subplot better!\n",
        "\n",
        "N.B. always use the [dev.off](https://www.rdocumentation.org/packages/imguR/versions/0.1.5/topics/dev.off) function to manage the correct closing and loading of the graphics space."
      ]
    },
    {
      "cell_type": "code",
      "metadata": {
        "id": "eIHVPwkCecQ5"
      },
      "source": [
        "pdf(\"/content/Melt_frame.pdf\")\n",
        "levelplot(melt)\n",
        "dev.off()"
      ],
      "execution_count": null,
      "outputs": []
    },
    {
      "cell_type": "markdown",
      "metadata": {
        "id": "xnKykXQrcfDD"
      },
      "source": [
        "### Residual maps\n",
        "The difference between the 1979 and 2007 images highlights the temperature variations for individual pixels. \n",
        "The image shows which areas of Greenland have experienced a rise or fall in temperatures and to what extent."
      ]
    },
    {
      "cell_type": "code",
      "metadata": {
        "id": "XyTSxiFhuHT1"
      },
      "source": [
        "melt_amount <- melt$X2007annual_melt - melt$X1979annual_melt\n",
        "clb <- colorRampPalette(c(\"blue\",\"white\",\"red\"))(100)\n",
        "# visualization melt area\n",
        "plot(melt_amount, col=clb, axes = FALSE)"
      ],
      "execution_count": null,
      "outputs": []
    },
    {
      "cell_type": "markdown",
      "metadata": {
        "id": "G7CpnX_Tc7QW"
      },
      "source": [
        "The `levelplot()` function displays two marginal graphs, the row and column summaries of the RasterLayer, calculated with the function defined by the FUN component of the margin list (which uses mean as the default value)."
      ]
    },
    {
      "cell_type": "code",
      "metadata": {
        "id": "Pi_PCacwxpOY"
      },
      "source": [
        "levelplot(melt_amount, col.regions=clb, margin = list(FUN = 'mean'), contour=TRUE)"
      ],
      "execution_count": null,
      "outputs": []
    }
  ]
}