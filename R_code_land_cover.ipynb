{
  "nbformat": 4,
  "nbformat_minor": 0,
  "metadata": {
    "colab": {
      "name": "R_code_land_cover.ipynb",
      "provenance": [],
      "authorship_tag": "ABX9TyMnoqN7gZxVyFnffpq0swtL"
    },
    "kernelspec": {
      "name": "ir",
      "display_name": "R"
    },
    "language_info": {
      "name": "R"
    }
  },
  "cells": [
    {
      "cell_type": "markdown",
      "metadata": {
        "id": "WfzIAI-J6TEO"
      },
      "source": [
        "<table class=\"ee-notebook-buttons\" align=\"left\"><td>\n",
        "<a target=\"_blank\"  href=\"https://colab.research.google.com/github/biagiominio/Remote_sensing_2021/blob/main/R_code_land_cover.ipynb\">\n",
        "    <img src=\"https://www.tensorflow.org/images/colab_logo_32px.png\" /> Run in Google Colab</a>\n",
        "</td><td>\n",
        "<a target=\"_blank\"  href=\"https://github.com/biagiominio/Remote_sensing_2021/blob/main/R_code_land_cover.ipynb\"><img width=32px src=\"https://www.tensorflow.org/images/GitHub-Mark-32px.png\" />View source on GitHub</a></td></table>\n",
        "\n",
        "\n",
        "<table style=\"background-color:#FFFFE0;\">\n",
        "<tr style=\"background-color:#BDB76B;color:#ffffff;\">\n",
        "<th>Table Header</th><th>Table Header</th>\n",
        "</tr>\n",
        "<tr>\n",
        "<td>Table cell 1</td><td>Table cell 2</td>\n",
        "</tr>\n",
        "<tr>\n",
        "<td>Table cell 3</td><td style=\"background-color:#ff0000;\">Table cell 4</td>\n",
        "</tr>\n",
        "</table>"
      ]
    },
    {
      "cell_type": "code",
      "metadata": {
        "id": "7Fep7BjLwMMP"
      },
      "source": [
        ""
      ],
      "execution_count": null,
      "outputs": []
    }
  ]
}