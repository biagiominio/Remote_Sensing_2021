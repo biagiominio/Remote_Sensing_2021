{
  "nbformat": 4,
  "nbformat_minor": 0,
  "metadata": {
    "colab": {
      "name": "R_code_land_cover.ipynb",
      "provenance": [],
      "authorship_tag": "ABX9TyN+ukPeKZ5GWnNKG2AWUh59"
    },
    "kernelspec": {
      "name": "ir",
      "display_name": "R"
    },
    "language_info": {
      "name": "R"
    }
  },
  "cells": [
    {
      "cell_type": "markdown",
      "metadata": {
        "id": "WfzIAI-J6TEO"
      },
      "source": [
        "<table class=\"ee-notebook-buttons\" align=\"left\"><td>\n",
        "<a target=\"_blank\"  href=\"https://colab.research.google.com/github/biagiominio/Remote_sensing_2021/blob/main/R_code_land_cover.ipynb\">\n",
        "    <img src=\"https://www.tensorflow.org/images/colab_logo_32px.png\" /> Run in Google Colab</a>\n",
        "</td><td>\n",
        "<a target=\"_blank\"  href=\"https://github.com/biagiominio/Remote_sensing_2021/blob/main/R_code_land_cover.ipynb\"><img width=32px src=\"https://www.tensorflow.org/images/GitHub-Mark-32px.png\" />View source on GitHub</a></td></table>\n",
        "\n",
        "\n"
      ]
    },
    {
      "cell_type": "markdown",
      "metadata": {
        "id": "_UkpOdo-8YBw"
      },
      "source": [
        "# Deforestation in Mato Grosso, Brazil\n",
        "\n",
        "An inland state of central Brazil, deep in the Amazon interior, Mato Grosso was long isolated from the outside world. A railroad, followed by highways and airplanes, eventually connected this state with other regions in the twentieth century. By the early twenty-first century, modern technology had clearly reached Mato Grosso—and produced widespread change.\n",
        "\n",
        "The Thematic Mapper on NASA’s Landsat 5 satellite captured the top image of part of Mato Grosso on August 6, 1992. The Advanced Spaceborne Thermal Emission and Reflection Radiometer (ASTER) on NASA’s Terra satellite captured the bottom image of the same area on July 28, 2006. In both of these false-color images, red indicates vegetation, and the brighter the red, the denser the vegetation. The Rio Peixoto de Azevedo appears pale blue, nearly white, in 1992, perhaps a combination of reflective sediment or sunlight glinting off the water.\n",
        "\n",
        "The most conspicuous difference between the images is the widespread forest clearing—visible as rectangles of gray-beige—that had occurred by 2006. The most intense areas of clearing appear along roadways, such as road MT-419, which runs east to west north of the river. A 2006 study found that Brazil’s mechanized agriculture increased by more than 3.6 million hectares (8.9 million acres) between 2001 and 2004, growing more than 540,000 hectares (1.3 million acres) in Mato Grosso alone. Clearing for pasture was still the leading cause of deforestation at that time, but the contribution from large agricultural clearings, such as for soy plantations, was increasing.\n",
        "\n",
        "\n",
        "<td><img src=\"https://eoimages.gsfc.nasa.gov/images/imagerecords/35000/35891/matogrosso_l5_1992219_lrg.jpg\" width=500</td><td><img src=\"https://eoimages.gsfc.nasa.gov/images/imagerecords/35000/35891/matogrosso_ast_2006209_lrg.jpg\" width=500</td>\n",
        "\n",
        "\n",
        "<font size=\"2\"> [*NASA images*](https://earthobservatory.nasa.gov/images/35891/deforestation-in-mato-grosso-brazil) *created by Jesse Allen, using Landsat data provided by the United States Geological Survey and ASTER data provided courtesy of NASA/GSFC/METI/ERSDAC/JAROS, and U.S./Japan ASTER Science Team. Caption by Michon Scott.*</font> "
      ]
    },
    {
      "cell_type": "code",
      "metadata": {
        "id": "sIBZqCaW5Xuz"
      },
      "source": [
        "mato_grosso_1992_url <- \"https://eoimages.gsfc.nasa.gov/images/imagerecords/35000/35891/matogrosso_l5_1992219_lrg.jpg\"\n",
        "mato_grosso_2006_url <- \"https://eoimages.gsfc.nasa.gov/images/imagerecords/35000/35891/matogrosso_ast_2006209_lrg.jpg\""
      ],
      "execution_count": null,
      "outputs": []
    },
    {
      "cell_type": "markdown",
      "metadata": {
        "id": "CWcyue8oJuZe"
      },
      "source": [
        "The [download.file](https://www.rdocumentation.org/packages/utils/versions/3.6.2/topics/download.file) function can be used to download a file from the Internet. \n",
        "```\n",
        "download.file(url, destfile)\n",
        "```\n",
        "In the function the `url` argument sets the resource to be downloaded and the `destfile` a character string with which the downloaded file is named."
      ]
    },
    {
      "cell_type": "code",
      "metadata": {
        "id": "2VwQSAU5NkR_"
      },
      "source": [
        "download.file(mato_grosso_1992_url, \"Mato_Grosso_1992.jpg\")\n",
        "download.file(mato_grosso_2006_url, \"Mato_Grosso_2006.jpg\")"
      ],
      "execution_count": null,
      "outputs": []
    },
    {
      "cell_type": "markdown",
      "metadata": {
        "id": "aUjXwyfVb_jM"
      },
      "source": [
        "## Install R packages\n",
        "The [install.packages](https://www.rdocumentation.org/packages/utils/versions/3.6.2/topics/install.packages) function is used to download and install packages from CRAN-like repositories.\n",
        "To install multiple packages at the same time, you define a vector that contains the names of the packages to be installed.\n",
        "\n",
        "The [raster](https://www.rdocumentation.org/packages/raster/versions/3.4-10) package defines classes and methods for spatial raster data access and manipulation. \n",
        "\n",
        "[RStoolbox](https://www.rdocumentation.org/packages/RStoolbox/versions/0.2.6) is an package providing a wide range of tools for your every-day remote sensing processing needs. The available tool-set covers many aspects for remote sensing image processing and analysis such as calculating spectral indices, principal component transformation, unsupervised and supervised classification or fractional cover analyses.\n"
      ]
    },
    {
      "cell_type": "code",
      "metadata": {
        "id": "l10HaqN7AZAT"
      },
      "source": [
        "packages <- c(\"raster\", \"RStoolbox\", \"rgdal\", \"rasterdiv\", \"rasterVis\")\n",
        "install.packages(packages)"
      ],
      "execution_count": null,
      "outputs": []
    },
    {
      "cell_type": "markdown",
      "metadata": {
        "id": "HivL27NllC4t"
      },
      "source": [
        "The [library](https://www.rdocumentation.org/packages/base/versions/3.6.2/topics/library) function is used to load previously installed packages.\n",
        "Using the [lapply](https://www.rdocumentation.org/packages/base/versions/3.6.2/topics/lapply) function we simultaneously apply the `library()` function to all elements of the vector containing the packages.\n",
        "\n"
      ]
    },
    {
      "cell_type": "code",
      "metadata": {
        "id": "PTJfZZmyt8Gi"
      },
      "source": [
        "lapply(packages , library, character.only = TRUE)"
      ],
      "execution_count": null,
      "outputs": []
    },
    {
      "cell_type": "markdown",
      "metadata": {
        "id": "Cz0OtbKUou7x"
      },
      "source": [
        "## Reading spatial data\n",
        "To read and view a multilevel object it is common to use the [brick](https://www.rdocumentation.org/packages/raster/versions/3.4-5/topics/brick) function (RasterBrick object). \n",
        "\n",
        "Explore the properties of the `mato_grosso_1992` and `mato_grosso_2006` object.\n",
        "\n"
      ]
    },
    {
      "cell_type": "code",
      "metadata": {
        "id": "ICF4_hiO37HX"
      },
      "source": [
        "mato_grosso_1992 <- brick( \"Mato_Grosso_1992.jpg\")\n",
        "mato_grosso_1992"
      ],
      "execution_count": null,
      "outputs": []
    },
    {
      "cell_type": "markdown",
      "metadata": {
        "id": "z0d4dIXNzi16"
      },
      "source": [
        "The brick object has three bands that correspond to the following portions of the electromagnetic spectrum:\n",
        "\n",
        "$\\mathsf{B1}$ = Near Infrared; \n",
        "$\\mathsf{B2}$ = Red;\n",
        "$\\mathsf{B3}$ = Green;\n",
        "\n",
        "Change the names of a raster object using the [names](https://www.rdocumentation.org/packages/base/versions/3.6.2/topics/names) function.\n"
      ]
    },
    {
      "cell_type": "code",
      "metadata": {
        "id": "WqqsCHDGdKod"
      },
      "source": [
        "names(mato_grosso_1992) <- c(\"nir\", \"red\", \"green\")\n",
        "mato_grosso_1992"
      ],
      "execution_count": null,
      "outputs": []
    },
    {
      "cell_type": "code",
      "metadata": {
        "id": "tFwr3hI3VV5G"
      },
      "source": [
        "mato_grosso_2006 <- brick( \"Mato_Grosso_2006.jpg\")\n",
        "names(mato_grosso_2006) <- c(\"nir\", \"red\", \"green\")\n",
        "mato_grosso_2006"
      ],
      "execution_count": null,
      "outputs": []
    },
    {
      "cell_type": "markdown",
      "metadata": {
        "id": "4uv4JQpYp5K0"
      },
      "source": [
        "The two images have a different extension and this could be a problem when comparing pixels or intersections. \n",
        "\n",
        "Let's see how to make the extension of the two images equal."
      ]
    },
    {
      "cell_type": "code",
      "metadata": {
        "id": "gXhj73rrSF4c"
      },
      "source": [
        "mato_grosso_2006@extent <- mato_grosso_1992@extent\n",
        "mato_grosso_2006"
      ],
      "execution_count": null,
      "outputs": []
    },
    {
      "cell_type": "markdown",
      "metadata": {
        "id": "JhLIFNxWtEgo"
      },
      "source": [
        "Now the `mato_grosso_1992` image has the same extension as the `mato_grosso_2006` object, but has a different resolution and dimension.\n",
        "\n",
        "To work around this problem, reduce the resolution of the `mato_grosso_2006` image by enlarging the pixels until they are the same size as the `mato_grosso_1992` object.\n",
        "To create a new RasterBrick object with a lower resolution use the [aggregate](https://www.rdocumentation.org/packages/raster/versions/3.4-10/topics/aggregate) function of the `raster` package."
      ]
    },
    {
      "cell_type": "code",
      "metadata": {
        "id": "kyCM1c6Dtqe8"
      },
      "source": [
        "mato_grosso_2006.res <- aggregate(mato_grosso_2006, fun=mean, fact=2)\n",
        "mato_grosso_2006.res"
      ],
      "execution_count": null,
      "outputs": []
    },
    {
      "cell_type": "markdown",
      "metadata": {
        "id": "PON7qgfLRyY_"
      },
      "source": [
        "### Visualization of spatial data\n",
        "Several generic functions have been implemented for \"raster\" objects to create maps and other plot types. For example, use [plot](https://www.rdocumentation.org/packages/raster/versions/3.4-5/topics/plot) function to create a map of a raster object.\n",
        "In addition, individual bands can be combined into a single image by assigning individual layers or bands to one of the three color channels (red, green and blue). \n",
        "The [plotRGB](https://www.rdocumentation.org/packages/raster/versions/3.4-5/topics/plotRGB) function can be used to make \"true (or false) color images\" from multi-band satellite images.\n",
        "\n",
        "Use the [par](https://www.rdocumentation.org/packages/graphics/versions/3.6.2/topics/par) function to compare the images of Mato Grosso over the two different years.\n",
        "Export the image using the [pdf](https://www.rdocumentation.org/packages/grDevices/versions/3.6.2/topics/pdf) function to enlarge it better and view the results.\n",
        "\n",
        "N.B. always use the `dev.off()` function to manage the correct closing and loading of the graphics device.\n"
      ]
    },
    {
      "cell_type": "code",
      "metadata": {
        "id": "7Fep7BjLwMMP"
      },
      "source": [
        "# R_code_land_cover.r\n",
        "library(raster)\n",
        "## Loading required package: sp\n",
        "library(RStoolbox) # classification\n",
        "# install.packages(\"ggplot2\")\n",
        "library(ggplot2)\n",
        "# install.packages(\"gridExtra\")\n",
        "library(gridExtra) # for grid.arrange plotting\n",
        "setwd(\"~/lab/\") # Linux\n",
        "# setwd(\"C:/lab/\") # Windows\n",
        "# setwd(\"/Users/name/Desktop/lab/\") # Mac\n",
        "# NIR 1, RED 2, GREEN 3\n",
        "defor1 <- brick(\"defor1.jpg\")\n",
        "plotRGB(defor1, r=1, g=2, b=3, stretch=\"lin\")\n",
        "ggRGB(defor1, r=1, g=2, b=3, stretch=\"lin\")\n",
        "defor2 <- brick(\"defor2.jpg\")\n",
        "plotRGB(defor2, r=1, g=2, b=3, stretch=\"lin\")\n",
        "ggRGB(defor2, r=1, g=2, b=3, stretch=\"lin\")\n",
        "par(mfrow=c(1,2))\n",
        "plotRGB(defor1, r=1, g=2, b=3, stretch=\"lin\")\n",
        "plotRGB(defor2, r=1, g=2, b=3, stretch=\"lin\")\n",
        "# multiframe with ggplot2 and gridExtra\n",
        "p1 <- ggRGB(defor1, r=1, g=2, b=3, stretch=\"lin\")\n",
        "p2 <- ggRGB(defor2, r=1, g=2, b=3, stretch=\"lin\")\n",
        "grid.arrange(p1, p2, nrow=2)\n",
        "# unsupervised classification\n",
        "d1c <- unsuperClass(defor1, nClasses=2)\n",
        "plot(d1c$map)\n",
        "# class 1: forest\n",
        "# class 2: agriculture\n",
        "# set.seed() would allow you to attain the same results ...\n",
        "d2c <- unsuperClass(defor2, nClasses=2)\n",
        "plot(d2c$map)\n",
        "# class 1: agriculture\n",
        "# class 2: forest\n",
        "d2c3 <- unsuperClass(defor2, nClasses=3)\n",
        "plot(d2c3$map)\n",
        "# frequencies\n",
        "freq(d1c$map)\n",
        "## value count\n",
        "## [1,] 1 33633\n",
        "## [2,] 2 307659\n",
        "# value count\n",
        "# [1,] 1 306583\n",
        "# [2,] 2 34709\n",
        "s1 <- 306583 + 34709\n",
        "prop1 <- freq(d1c$map) / s1\n",
        "# prop forest: 0.8983012\n",
        "# prop agriculture: 0.1016988\n",
        "s2 <- 342726\n",
        "prop2 <- freq(d2c$map) / s2\n",
        "# prop forest: 0.5206958\n",
        "# prop agriculture: 0.4793042\n",
        "# build a dataframe\n",
        "cover <- c(\"Forest\",\"Agriculture\")\n",
        "percent_1992 <- c(89.83, 10.16)\n",
        "percent_2006 <- c(52.06, 47.93)\n",
        "percentages <- data.frame(cover, percent_1992, percent_2006)\n",
        "percentages\n",
        "## cover percent_1992 percent_2006\n",
        "## 1 Forest 89.83 52.06\n",
        "## 2 Agriculture 10.16 47.93\n",
        "# let's plot them!\n",
        "ggplot(percentages, aes(x=cover, y=percent_1992, color=cover)) + geom_bar(stat=\"identity\", fill=\"white\")\n",
        "ggplot(percentages, aes(x=cover, y=percent_2006, color=cover)) + geom_bar(stat=\"identity\", fill=\"white\")\n",
        "p1 <- ggplot(percentages, aes(x=cover, y=percent_1992, color=cover)) + geom_bar(stat=\"identity\", fill=\"white\")\n",
        "p2 <- ggplot(percentages, aes(x=cover, y=percent_2006, color=cover)) + geom_bar(stat=\"identity\", fill=\"white\")\n",
        "grid.arrange(p1, p2, nrow=1)"
      ],
      "execution_count": null,
      "outputs": []
    }
  ]
}