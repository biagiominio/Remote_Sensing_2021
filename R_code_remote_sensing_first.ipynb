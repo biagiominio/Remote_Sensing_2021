{
  "nbformat": 4,
  "nbformat_minor": 0,
  "metadata": {
    "colab": {
      "name": "R_code_remote_sensing_first.ipynb",
      "provenance": [],
      "authorship_tag": "ABX9TyPUKsDhG3GytE2OE6Rc6VS5"
    },
    "kernelspec": {
      "name": "ir",
      "display_name": "R"
    },
    "language_info": {
      "name": "R"
    }
  },
  "cells": [
    {
      "cell_type": "markdown",
      "metadata": {
        "id": "WfzIAI-J6TEO"
      },
      "source": [
        "<table class=\"ee-notebook-buttons\" align=\"left\"><td>\n",
        "<a target=\"_blank\"  href=\"https://colab.research.google.com/drive/1Ql88wX6Ucjot4BZrHTqeV2V-Hc5bDqMN#scrollTo=WfzIAI-J6TEO\">\n",
        "    <img src=\"https://www.tensorflow.org/images/colab_logo_32px.png\" /> Run in Google Colab</a>\n",
        "</td><td>\n",
        "<a target=\"_blank\"  href=\"https://github.com/biagiominio/Remote_sensing_2021/blob/main/R_code_remote_sensing_first.ipynb\"><img width=32px src=\"https://www.tensorflow.org/images/GitHub-Mark-32px.png\" /> View source on GitHub</a></td></table>"
      ]
    },
    {
      "cell_type": "markdown",
      "metadata": {
        "id": "z06A8PFRUQob"
      },
      "source": [
        "[![Open In Colab](https://colab.research.google.com/assets/colab-badge.svg)](https://colab.research.google.com/drive/1Ql88wX6Ucjot4BZrHTqeV2V-Hc5bDqMN#scrollTo=WfzIAI-J6TEO)\n",
        "\n",
        "[![](https://img.shields.io/badge/-View_source_on_GitHub-black?style=flat&logo=github&logoColor=white)](https://github.com/biagiominio/Remote_sensing_2021/blob/main/R_code_remote_sensing_first.ipynb)"
      ]
    },
    {
      "cell_type": "code",
      "metadata": {
        "id": "AtYUFTKj5w5T"
      },
      "source": [
        ""
      ],
      "execution_count": null,
      "outputs": []
    }
  ]
}