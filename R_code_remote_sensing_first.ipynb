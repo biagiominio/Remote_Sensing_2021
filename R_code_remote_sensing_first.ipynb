{
  "nbformat": 4,
  "nbformat_minor": 0,
  "metadata": {
    "colab": {
      "name": "R_code_remote_sensing_first.ipynb",
      "provenance": [],
      "authorship_tag": "ABX9TyMt0nJet5Z4Nlp8FIHVb966"
    },
    "kernelspec": {
      "name": "ir",
      "display_name": "R"
    },
    "language_info": {
      "name": "R"
    }
  },
  "cells": [
    {
      "cell_type": "markdown",
      "metadata": {
        "id": "WfzIAI-J6TEO"
      },
      "source": [
        "<table class=\"ee-notebook-buttons\" align=\"left\"><td>\n",
        "<a target=\"_blank\"  href=\"https://colab.research.google.com/drive/1Ql88wX6Ucjot4BZrHTqeV2V-Hc5bDqMN#scrollTo=WfzIAI-J6TEO\">\n",
        "    <img src=\"https://www.tensorflow.org/images/colab_logo_32px.png\" /> Run in Google Colab</a>\n",
        "</td><td>\n",
        "<a target=\"_blank\"  href=\"https://github.com/biagiominio/Remote_sensing_2021/blob/main/R_code_remote_sensing_first.ipynb\"><img width=32px src=\"https://www.tensorflow.org/images/GitHub-Mark-32px.png\" /> View source on GitHub</a></td></table>"
      ]
    },
    {
      "cell_type": "markdown",
      "metadata": {
        "id": "dGQRbLvnYKBC"
      },
      "source": [
        "# Raster data manipulation\n",
        "The [raster](https://www.rdocumentation.org/packages/raster/versions/3.4-5) package provides classes and functions to manipulate geographic (spatial) data in \"raster\" format. Raster data divides space into cells (rectangles; pixels) of equal size (in units of the coordinate reference system). Such continuous spatial data are also referred to as \"grid\" data, and be contrasted with discrete (object based) spatial data (points, lines, polygons)."
      ]
    },
    {
      "cell_type": "markdown",
      "metadata": {
        "id": "aUjXwyfVb_jM"
      },
      "source": [
        "## Install R packages\n",
        "The [install.packages](https://www.rdocumentation.org/packages/utils/versions/3.6.2/topics/install.packages) function is used to download and install packages from CRAN-like repositories.\n",
        "\n"
      ]
    },
    {
      "cell_type": "code",
      "metadata": {
        "id": "AtYUFTKj5w5T"
      },
      "source": [
        "install.packages(\"raster\")"
      ],
      "execution_count": null,
      "outputs": []
    },
    {
      "cell_type": "markdown",
      "metadata": {
        "id": "HivL27NllC4t"
      },
      "source": [
        "\n",
        "The [library](https://www.rdocumentation.org/packages/base/versions/3.6.2/topics/library) function is used to load previously installed packages."
      ]
    },
    {
      "cell_type": "code",
      "metadata": {
        "id": "n01xyU-4cXKt"
      },
      "source": [
        "library(raster)"
      ],
      "execution_count": 25,
      "outputs": []
    },
    {
      "cell_type": "markdown",
      "metadata": {
        "id": "ElBwRpFElLqv"
      },
      "source": [
        "## Upload file manually\n",
        "1. Download the image of the *Parakanã Indigenous Reserve* in the state of Pará (northern region of Brazil) using Landsat [data](https://drive.google.com/drive/folders/1buaEhfQgOdV6AxXvV6NKQi6PAQjknyNi?usp=sharing) from 2011.\n",
        "\n",
        "2. On the left side of Google Colab click on the small folder icon named file ⇒ click the Upload icon ⇒ choose the files to upload from your Downloads folder and click OK ⇒ your files are now on Google Colab!\n",
        "\n"
      ]
    },
    {
      "cell_type": "markdown",
      "metadata": {
        "id": "FUiacmQdNfhq"
      },
      "source": [
        "Set the current working directory of the R process with the [setwd](https://www.rdocumentation.org/packages/base/versions/3.6.2/topics/getwd) function."
      ]
    },
    {
      "cell_type": "code",
      "metadata": {
        "id": "l20JpvVtlL_k"
      },
      "source": [
        "setwd(\"/content\")"
      ],
      "execution_count": 28,
      "outputs": []
    },
    {
      "cell_type": "markdown",
      "metadata": {
        "id": "Cz0OtbKUou7x"
      },
      "source": [
        "## Reading spatial data\n",
        "It is common to use the [brick](https://www.rdocumentation.org/packages/raster/versions/3.4-5/topics/brick) function to read and view a multilevel object."
      ]
    },
    {
      "cell_type": "code",
      "metadata": {
        "id": "ykEACyvoPK-I"
      },
      "source": [
        "p224r63_2011 <- brick(\"p224r63_2011_masked.grd\")"
      ],
      "execution_count": null,
      "outputs": []
    },
    {
      "cell_type": "markdown",
      "metadata": {
        "id": "FBoRycHSRowk"
      },
      "source": [
        "Explore the properties of the `p224r63_2011` object."
      ]
    },
    {
      "cell_type": "code",
      "metadata": {
        "id": "KT8zq-TQRwTy"
      },
      "source": [
        "p224r63_2011"
      ],
      "execution_count": null,
      "outputs": []
    },
    {
      "cell_type": "markdown",
      "metadata": {
        "id": "z0d4dIXNzi16"
      },
      "source": [
        "### Lansat bands\n",
        "##### B1 = *Blue* \n",
        "##### B2 = *Green*\n",
        "##### B3 = *Red*\n",
        "##### B4 = *Near Infrared*\n",
        "##### B5 = *Short Wave Infrared*\n",
        "##### B6 = *Thermal Infrared*\n",
        "##### B7 = *Short Wave Infrared*"
      ]
    },
    {
      "cell_type": "markdown",
      "metadata": {
        "id": "PON7qgfLRyY_"
      },
      "source": [
        "## Visualization of spatial data\n",
        "Several generic functions have been implemented for \"raster\" objects to create maps and other plot types. For example, use [plot](https://www.rdocumentation.org/packages/raster/versions/3.4-5/topics/plot) function to create a map of a raster object."
      ]
    },
    {
      "cell_type": "code",
      "metadata": {
        "id": "tsn3w1Y8cYfZ"
      },
      "source": [
        "plot(p224r63_2011)"
      ],
      "execution_count": null,
      "outputs": []
    },
    {
      "cell_type": "markdown",
      "metadata": {
        "id": "Epfv0rOP6Qrb"
      },
      "source": [
        "### Colour change\n",
        "Use function [colorRampPalette](https://www.rdocumentation.org/packages/dichromat/versions/1.1/topics/colorRampPalette) to create a continuous color scale divided into `n` levels."
      ]
    },
    {
      "cell_type": "code",
      "metadata": {
        "id": "WeX7ecB0ck9j"
      },
      "source": [
        "n <- 100\n",
        "cl <- colorRampPalette(c(\"black\",\"grey\",\"light grey\")) (n)\n",
        "plot(p224r63_2011, col=cl)"
      ],
      "execution_count": null,
      "outputs": []
    },
    {
      "cell_type": "code",
      "metadata": {
        "id": "X46MgX4JcsgE"
      },
      "source": [
        "cl <- colorRampPalette(c(\"magenta\",\"blue\",\"green\",\"yellow\",\"red\")) (n*2)\n",
        "plot(p224r63_2011, col=cl)"
      ],
      "execution_count": null,
      "outputs": []
    },
    {
      "cell_type": "markdown",
      "metadata": {
        "id": "sOPBLASu1BwY"
      },
      "source": [
        "Multi-layer Raster objects can be plotted as individual layers. Select a single band or layer with the `$` operator.\n",
        "\n"
      ]
    },
    {
      "cell_type": "code",
      "metadata": {
        "id": "MpldX-mH1khR"
      },
      "source": [
        "plot(p224r63_2011$B4_sre)"
      ],
      "execution_count": null,
      "outputs": []
    },
    {
      "cell_type": "markdown",
      "metadata": {
        "id": "ulOVVfBb-5XC"
      },
      "source": [
        "Individual bands can also be combined into a single image by assigning individual layers or bands to one of the three color channels (red, green and blue). \n",
        "The [plotRGB](https://www.rdocumentation.org/packages/raster/versions/3.4-5/topics/plotRGB) function can be used to make \"true (or false) color images\" from Landsat and other multi-band satellite images.\n",
        "In the `plotRGB` function the `stretch` argument increases the contrast of the image through the use of two [methods](http://spatial-analyst.net/ILWIS/htm/ilwisapp/stretch_functionality.htm): \"lin\" or \"hist\".\n"
      ]
    },
    {
      "cell_type": "code",
      "metadata": {
        "id": "zrVXsjQrA8HM"
      },
      "source": [
        "# true color image with linear stretch\n",
        "plotRGB(p224r63_2011, r = 3, g = 2, b = 1, stretch = \"lin\")"
      ],
      "execution_count": null,
      "outputs": []
    },
    {
      "cell_type": "code",
      "metadata": {
        "id": "MVRnCA1-E_Q4"
      },
      "source": [
        "# false color image with histogram stretch\n",
        "plotRGB(p224r63_2011, r = 4, g = 3, b = 2, stretch = \"hist\")"
      ],
      "execution_count": null,
      "outputs": []
    },
    {
      "cell_type": "markdown",
      "metadata": {
        "id": "-ey8FREB9KST"
      },
      "source": [
        "### Multi-frame images\n",
        "Using the [par](https://www.rdocumentation.org/packages/graphics/versions/3.6.2/topics/par) function it is possible to set the parameters of the graphic output. Subsequent figures will be drawn in an array on the device by columns `mfcol`, or rows `mfrow`, respectively."
      ]
    },
    {
      "cell_type": "code",
      "metadata": {
        "id": "knOFrWUVdAip"
      },
      "source": [
        "# 2 row, 1 columns\n",
        "par(mfrow=c(2,1)) # if you are using columns first: par(mfcol=c(1,2))\n",
        "plot(p224r63_2011$B1_sre)\n",
        "plot(p224r63_2011$B2_sre)"
      ],
      "execution_count": null,
      "outputs": []
    },
    {
      "cell_type": "code",
      "metadata": {
        "id": "b1j5oayreVxI"
      },
      "source": [
        "# a quadrat of bands...\n",
        "par(mfrow=c(2,2))\n",
        "clb <- colorRampPalette(c(\"dark blue\",\"blue\",\"light blue\")) (100)\n",
        "plot(p224r63_2011$B1_sre, col=clb)\n",
        "clg <- colorRampPalette(c(\"dark green\",\"green\",\"light green\")) (100)\n",
        "plot(p224r63_2011$B2_sre, col=clg)\n",
        "clr <- colorRampPalette(c(\"dark red\",\"red\",\"pink\")) (100)\n",
        "plot(p224r63_2011$B3_sre, col=clr)\n",
        "clnir <- colorRampPalette(c(\"red\",\"orange\",\"yellow\")) (100)\n",
        "plot(p224r63_2011$B4_sre, col=clnir)"
      ],
      "execution_count": null,
      "outputs": []
    },
    {
      "cell_type": "code",
      "metadata": {
        "id": "9Hl3F0-5eZHb"
      },
      "source": [
        "# Visualizing data by RGB plotting\n",
        "par(mfrow=c(2,2))\n",
        "plotRGB(p224r63_2011, r=3, g=2, b=1, stretch=\"Lin\")\n",
        "plotRGB(p224r63_2011, r=4, g=3, b=2, stretch=\"Lin\")\n",
        "plotRGB(p224r63_2011, r=3, g=4, b=2, stretch=\"Lin\")\n",
        "plotRGB(p224r63_2011, r=3, g=2, b=4, stretch=\"Lin\")"
      ],
      "execution_count": null,
      "outputs": []
    },
    {
      "cell_type": "markdown",
      "metadata": {
        "id": "tlylaCPtcKNe"
      },
      "source": [
        "### Export images\n",
        "The [pdf](https://www.rdocumentation.org/packages/grDevices/versions/3.6.2/topics/pdf) function starts the graphics device driver for producing PDF graphics."
      ]
    },
    {
      "cell_type": "code",
      "metadata": {
        "id": "eIHVPwkCecQ5"
      },
      "source": [
        "pdf(\"/content/RGB_MAP.pdf\")\n",
        "plotRGB(p224r63_2011, r=3, g=4, b=2, stretch=\"Lin\")\n",
        "plotRGB(p224r63_2011, r=3, g=4, b=2, stretch=\"hist\")"
      ],
      "execution_count": 59,
      "outputs": []
    },
    {
      "cell_type": "code",
      "metadata": {
        "id": "2QRqUNggtGPM"
      },
      "source": [
        "# par natural colours, false colours, and false colours with histogram stretching\n",
        "par(mfrow=c(3,1))\n",
        "plotRGB(p224r63_2011, r=3, g=2, b=1, stretch=\"Lin\")\n",
        "plotRGB(p224r63_2011, r=3, g=4, b=2, stretch=\"Lin\")\n",
        "plotRGB(p224r63_2011, r=3, g=4, b=2, stretch=\"hist\")"
      ],
      "execution_count": null,
      "outputs": []
    }
  ]
}