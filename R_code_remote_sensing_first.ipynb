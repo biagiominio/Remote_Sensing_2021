{
  "nbformat": 4,
  "nbformat_minor": 0,
  "metadata": {
    "colab": {
      "name": "R_code_remote_sensing_first.ipynb",
      "provenance": [],
      "authorship_tag": "ABX9TyPvDQeOqLMbgDoxEEf9/E9n"
    },
    "kernelspec": {
      "name": "ir",
      "display_name": "R"
    },
    "language_info": {
      "name": "R"
    }
  },
  "cells": [
    {
      "cell_type": "markdown",
      "metadata": {
        "id": "WfzIAI-J6TEO"
      },
      "source": [
        "<table class=\"ee-notebook-buttons\" align=\"left\"><td>\n",
        "<a target=\"_blank\"  href=\"https://colab.research.google.com/drive/1Ql88wX6Ucjot4BZrHTqeV2V-Hc5bDqMN#scrollTo=WfzIAI-J6TEO\">\n",
        "    <img src=\"https://www.tensorflow.org/images/colab_logo_32px.png\" /> Run in Google Colab</a>\n",
        "</td><td>\n",
        "<a target=\"_blank\"  href=\"https://github.com/biagiominio/Remote_sensing_2021/blob/main/R_code_remote_sensing_first.ipynb\"><img width=32px src=\"https://www.tensorflow.org/images/GitHub-Mark-32px.png\" /> View source on GitHub</a></td></table>"
      ]
    },
    {
      "cell_type": "markdown",
      "metadata": {
        "id": "dGQRbLvnYKBC"
      },
      "source": [
        "# Raster data manipulation\n",
        "The [raster](https://www.rdocumentation.org/packages/raster/versions/3.4-5) package provides classes and functions to manipulate geographic (spatial) data in \"raster\" format. Raster data divides space into cells (rectangles; pixels) of equal size (in units of the coordinate reference system). Such continuous spatial data are also referred to as \"grid\" data, and be contrasted with discrete (object based) spatial data (points, lines, polygons)."
      ]
    },
    {
      "cell_type": "markdown",
      "metadata": {
        "id": "aUjXwyfVb_jM"
      },
      "source": [
        "## Introduction\n",
        "Use the [install.packages](https://www.rdocumentation.org/packages/utils/versions/3.6.2/topics/install.packages) function to download and install packages from CRAN-like repositories or local files.\n",
        "\n"
      ]
    },
    {
      "cell_type": "code",
      "metadata": {
        "id": "AtYUFTKj5w5T"
      },
      "source": [
        "install.packages(\"raster\")"
      ],
      "execution_count": null,
      "outputs": []
    },
    {
      "cell_type": "markdown",
      "metadata": {
        "id": "HivL27NllC4t"
      },
      "source": [
        "\n",
        "Use the [library](https://www.rdocumentation.org/packages/base/versions/3.6.2/topics/library) function to load previously installed packages."
      ]
    },
    {
      "cell_type": "code",
      "metadata": {
        "id": "n01xyU-4cXKt"
      },
      "source": [
        "library(raster)"
      ],
      "execution_count": null,
      "outputs": []
    },
    {
      "cell_type": "markdown",
      "metadata": {
        "id": "11vNyksfdVSk"
      },
      "source": [
        "Import files from the desktop"
      ]
    },
    {
      "cell_type": "code",
      "metadata": {
        "id": "us_BQmJydUKX"
      },
      "source": [
        "from google.colab import files\n",
        "uploaded = files.upload()"
      ],
      "execution_count": null,
      "outputs": []
    },
    {
      "cell_type": "code",
      "metadata": {
        "id": "b2eaiwixpMg9"
      },
      "source": [
        "\"https://drive.google.com/drive/folders/1BRiXxBXCrCSW5bRvlRbuiPrd0x7FjOEK?usp=sharing\""
      ],
      "execution_count": null,
      "outputs": []
    },
    {
      "cell_type": "markdown",
      "metadata": {
        "id": "ElBwRpFElLqv"
      },
      "source": [
        ""
      ]
    },
    {
      "cell_type": "code",
      "metadata": {
        "id": "l20JpvVtlL_k"
      },
      "source": [
        "setwd(\"/content/drive/MyDrive/Telerilevamento/lab\")\n",
        "p224r63_2011 <- brick(\"p224r63_2011_masked.grd\")\n",
        "p224r63_2011"
      ],
      "execution_count": null,
      "outputs": []
    },
    {
      "cell_type": "code",
      "metadata": {
        "id": "tsn3w1Y8cYfZ"
      },
      "source": [
        "plot(p224r63_2011)"
      ],
      "execution_count": null,
      "outputs": []
    },
    {
      "cell_type": "code",
      "metadata": {
        "id": "WeX7ecB0ck9j"
      },
      "source": [
        "# colour change\n",
        "cl <- colorRampPalette(c(\"black\",\"grey\",\"light grey\")) (100)\n",
        "plot(p224r63_2011, col=cl)"
      ],
      "execution_count": null,
      "outputs": []
    },
    {
      "cell_type": "code",
      "metadata": {
        "id": "X46MgX4JcsgE"
      },
      "source": [
        "# colour change -> new\n",
        "cl <- colorRampPalette(c(\"blue\",\"green\",\"grey\",\"red\",\"magenta\",\"yellow\")) (100)\n",
        "plot(p224r63_2011, col=cl)\n"
      ],
      "execution_count": null,
      "outputs": []
    },
    {
      "cell_type": "code",
      "metadata": {
        "id": "8OxhGrq4cym0"
      },
      "source": [
        "#### DAY 3\n",
        "# Bande Landsat\n",
        "# B1: blu\n",
        "# B2: verde\n",
        "# B3: rosso\n",
        "# B4: infrarosso vicino\n",
        "# B5: infrarosso medio\n",
        "# B6: infrarosso termico\n",
        "# B7: infrarosso medio\n",
        "# dev.off will clean the current graph\n",
        "# dev.off()\n",
        "plot(p224r63_2011$B1_sre)\n"
      ],
      "execution_count": null,
      "outputs": []
    },
    {
      "cell_type": "code",
      "metadata": {
        "id": "yot3bec_c1a3"
      },
      "source": [
        "cls <- colorRampPalette(c(\"red\",\"pink\",\"orange\",\"purple\")) (200)\n",
        "plot(p224r63_2011$B1_sre, col=cls)\n"
      ],
      "execution_count": null,
      "outputs": []
    },
    {
      "cell_type": "code",
      "metadata": {
        "id": "NCEuwEbSc45Q"
      },
      "source": [
        "plot(p224r63_2011$B1_sre)\n"
      ],
      "execution_count": null,
      "outputs": []
    },
    {
      "cell_type": "code",
      "metadata": {
        "id": "m1GG0WGNc9oU"
      },
      "source": [
        "plot(p224r63_2011$B2_sre)\n"
      ],
      "execution_count": null,
      "outputs": []
    },
    {
      "cell_type": "code",
      "metadata": {
        "id": "knOFrWUVdAip"
      },
      "source": [
        "# 1 row, 2 columns\n",
        "par(mfrow=c(1,2))\n",
        "plot(p224r63_2011$B1_sre)\n",
        "plot(p224r63_2011$B2_sre)\n"
      ],
      "execution_count": null,
      "outputs": []
    },
    {
      "cell_type": "code",
      "metadata": {
        "id": "H9jXvr5udD_R"
      },
      "source": [
        "# 2 row, 1 columns\n",
        "par(mfrow=c(2,1)) # if you are using columns first: par(mfcol....)\n",
        "plot(p224r63_2011$B1_sre)\n",
        "plot(p224r63_2011$B2_sre)\n"
      ],
      "execution_count": null,
      "outputs": []
    },
    {
      "cell_type": "code",
      "metadata": {
        "id": "MtC5EoUgdHgY"
      },
      "source": [
        "# plot the first four bands of Landsat\n",
        "par(mfrow=c(4,1))\n",
        "plot(p224r63_2011$B1_sre)\n",
        "plot(p224r63_2011$B2_sre)\n",
        "plot(p224r63_2011$B3_sre)\n",
        "plot(p224r63_2011$B4_sre)"
      ],
      "execution_count": null,
      "outputs": []
    },
    {
      "cell_type": "code",
      "metadata": {
        "id": "IyjhP2qxdKXF"
      },
      "source": [
        "# a quadrat of bands...:\n",
        "par(mfrow=c(2,2))\n",
        "plot(p224r63_2011$B1_sre)\n",
        "plot(p224r63_2011$B2_sre)\n",
        "plot(p224r63_2011$B3_sre)\n",
        "plot(p224r63_2011$B4_sre)"
      ],
      "execution_count": null,
      "outputs": []
    },
    {
      "cell_type": "code",
      "metadata": {
        "id": "b1j5oayreVxI"
      },
      "source": [
        "# a quadrat of bands...:\n",
        "par(mfrow=c(2,2))\n",
        "clb <- colorRampPalette(c(\"dark blue\",\"blue\",\"light blue\")) (100)\n",
        "plot(p224r63_2011$B1_sre, col=clb)\n",
        "clg <- colorRampPalette(c(\"dark green\",\"green\",\"light green\")) (100)\n",
        "plot(p224r63_2011$B2_sre, col=clg)\n",
        "clr <- colorRampPalette(c(\"dark red\",\"red\",\"pink\")) (100)\n",
        "plot(p224r63_2011$B3_sre, col=clr)\n",
        "clnir <- colorRampPalette(c(\"red\",\"orange\",\"yellow\")) (100)\n",
        "plot(p224r63_2011$B4_sre, col=clnir)\n"
      ],
      "execution_count": null,
      "outputs": []
    },
    {
      "cell_type": "code",
      "metadata": {
        "id": "9Hl3F0-5eZHb"
      },
      "source": [
        "# Visualizing data by RGB plotting\n",
        "# Bande Landsat\n",
        "# B1: blu\n",
        "# B2: verde\n",
        "# B3: rosso\n",
        "# B4: infrarosso vicino\n",
        "# B5: infrarosso medio\n",
        "# B6: infrarosso termico\n",
        "# B7: infrarosso medio\n",
        "plotRGB(p224r63_2011, r=3, g=2, b=1, stretch=\"Lin\")\n",
        "plotRGB(p224r63_2011, r=4, g=3, b=2, stretch=\"Lin\")\n",
        "plotRGB(p224r63_2011, r=3, g=4, b=2, stretch=\"Lin\")\n",
        "plotRGB(p224r63_2011, r=3, g=2, b=4, stretch=\"Lin\")\n",
        "# Exercise: mount a 2x2 multiframe\n",
        "par(mfrow=c(2,2))\n",
        "plotRGB(p224r63_2011, r=3, g=2, b=1, stretch=\"Lin\")\n",
        "plotRGB(p224r63_2011, r=4, g=3, b=2, stretch=\"Lin\")\n",
        "plotRGB(p224r63_2011, r=3, g=4, b=2, stretch=\"Lin\")\n",
        "plotRGB(p224r63_2011, r=3, g=2, b=4, stretch=\"Lin\")\n"
      ],
      "execution_count": null,
      "outputs": []
    },
    {
      "cell_type": "code",
      "metadata": {
        "id": "eIHVPwkCecQ5"
      },
      "source": [
        "# pdf(\"il_mio_primo_pdf_con_R.pdf\")\n",
        "# par(mfrow=c(2,2))\n",
        "# plotRGB(p224r63_2011, r=3, g=2, b=1, stretch=\"Lin\")\n",
        "# plotRGB(p224r63_2011, r=4, g=3, b=2, stretch=\"Lin\")\n",
        "# plotRGB(p224r63_2011, r=3, g=4, b=2, stretch=\"Lin\")\n",
        "# plotRGB(p224r63_2011, r=3, g=2, b=4, stretch=\"Lin\")\n",
        "# dev.off()\n",
        "plotRGB(p224r63_2011, r=3, g=4, b=2, stretch=\"Lin\")\n",
        "plotRGB(p224r63_2011, r=3, g=4, b=2, stretch=\"hist\")\n",
        "# par natural colours, flase colours, and false colours with histogram stretching\n",
        "par(mfrow=c(3,1))\n"
      ],
      "execution_count": null,
      "outputs": []
    },
    {
      "cell_type": "code",
      "metadata": {
        "id": "8ChQbLmIefSe"
      },
      "source": [
        "plotRGB(p224r63_2011, r=3, g=2, b=1, stretch=\"Lin\")\n",
        "plotRGB(p224r63_2011, r=3, g=4, b=2, stretch=\"Lin\")\n",
        "plotRGB(p224r63_2011, r=3, g=4, b=2, stretch=\"hist\")\n"
      ],
      "execution_count": null,
      "outputs": []
    },
    {
      "cell_type": "code",
      "metadata": {
        "id": "jLxFKkPhej1V"
      },
      "source": [
        "sessionInfo()"
      ],
      "execution_count": null,
      "outputs": []
    }
  ]
}