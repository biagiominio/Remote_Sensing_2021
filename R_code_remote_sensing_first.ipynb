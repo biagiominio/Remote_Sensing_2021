{
  "nbformat": 4,
  "nbformat_minor": 0,
  "metadata": {
    "colab": {
      "name": "R_code_remote_sensing_first.ipynb",
      "provenance": [],
      "authorship_tag": "ABX9TyOvh7alNIoVFq4/JcGUb1xI"
    },
    "kernelspec": {
      "name": "ir",
      "display_name": "R"
    },
    "language_info": {
      "name": "R"
    }
  },
  "cells": [
    {
      "cell_type": "markdown",
      "metadata": {
        "id": "WfzIAI-J6TEO"
      },
      "source": [
        "<table class=\"ee-notebook-buttons\" align=\"left\"><td>\n",
        "<a target=\"_blank\"  href=\"https://colab.research.google.com/drive/1Ql88wX6Ucjot4BZrHTqeV2V-Hc5bDqMN#scrollTo=WfzIAI-J6TEO\">\n",
        "    <img src=\"https://www.tensorflow.org/images/colab_logo_32px.png\" /> Run in Google Colab</a>\n",
        "</td><td>\n",
        "<a target=\"_blank\"  href=\"https://github.com/biagiominio/Remote_sensing_2021/blob/main/R_code_remote_sensing_first.ipynb\"><img width=32px src=\"https://www.tensorflow.org/images/GitHub-Mark-32px.png\" /> View source on GitHub</a></td></table>"
      ]
    },
    {
      "cell_type": "markdown",
      "metadata": {
        "id": "dGQRbLvnYKBC"
      },
      "source": [
        "# Raster data manipulation\n",
        "The [raster](https://www.rdocumentation.org/packages/raster/versions/3.4-5) package provides classes and functions to manipulate geographic (spatial) data in \"raster\" format. Raster data divides space into cells (rectangles; pixels) of equal size (in units of the coordinate reference system). Such continuous spatial data are also referred to as \"grid\" data, and be contrasted with discrete (object based) spatial data (points, lines, polygons)."
      ]
    },
    {
      "cell_type": "markdown",
      "metadata": {
        "id": "aUjXwyfVb_jM"
      },
      "source": [
        "## Introduction\n",
        "Use the [install.packages](https://www.rdocumentation.org/packages/utils/versions/3.6.2/topics/install.packages) function to download and install packages from CRAN-like repositories or local files.\n",
        "\n"
      ]
    },
    {
      "cell_type": "code",
      "metadata": {
        "id": "AtYUFTKj5w5T"
      },
      "source": [
        "install.packages(\"raster\")"
      ],
      "execution_count": null,
      "outputs": []
    },
    {
      "cell_type": "markdown",
      "metadata": {
        "id": "HivL27NllC4t"
      },
      "source": [
        "\n",
        "Use the [library](https://www.rdocumentation.org/packages/base/versions/3.6.2/topics/library) function to load previously installed packages."
      ]
    },
    {
      "cell_type": "code",
      "metadata": {
        "id": "n01xyU-4cXKt"
      },
      "source": [
        "library(raster)"
      ],
      "execution_count": 6,
      "outputs": []
    },
    {
      "cell_type": "markdown",
      "metadata": {
        "id": "11vNyksfdVSk"
      },
      "source": [
        "Download the image of the Parakanã Indigenous Reserve in the state of Pará (northern region of Brazil) using Landsat [data](https://drive.google.com/drive/folders/1H9CDjTmEorR4Fqe-mRYfcw5b0EZaHrvk?usp=sharing) from 2011."
      ]
    },
    {
      "cell_type": "code",
      "metadata": {
        "id": "AhuDlVyUtMU3",
        "outputId": "49f5a133-61ef-4f5c-f111-5739a6413609",
        "colab": {
          "base_uri": "https://localhost:8080/",
          "height": 170
        }
      },
      "source": [
        "p224r63_2011 <- brick(\"/content/p224r63_2011_masked.grd\")\n",
        "p224r63_2011"
      ],
      "execution_count": 16,
      "outputs": [
        {
          "output_type": "display_data",
          "data": {
            "text/plain": [
              "class      : RasterBrick \n",
              "dimensions : 1499, 2967, 4447533, 7  (nrow, ncol, ncell, nlayers)\n",
              "resolution : 30, 30  (x, y)\n",
              "extent     : 579765, 668775, -522705, -477735  (xmin, xmax, ymin, ymax)\n",
              "crs        : +proj=utm +zone=22 +datum=WGS84 +units=m +no_defs +ellps=WGS84 +towgs84=0,0,0 \n",
              "source     : /content/p224r63_2011_masked.grd \n",
              "names      :       B1_sre,       B2_sre,       B3_sre,       B4_sre,       B5_sre,        B6_bt,       B7_sre \n",
              "min values : 0.000000e+00, 0.000000e+00, 0.000000e+00, 1.196277e-02, 4.116526e-03, 2.951000e+02, 0.000000e+00 \n",
              "max values :    0.1249041,    0.2563655,    0.2591587,    0.5592193,    0.4894984,  305.2000000,    0.3692634 \n"
            ]
          },
          "metadata": {
            "tags": []
          }
        }
      ]
    },
    {
      "cell_type": "markdown",
      "metadata": {
        "id": "ElBwRpFElLqv"
      },
      "source": [
        ""
      ]
    },
    {
      "cell_type": "code",
      "metadata": {
        "colab": {
          "base_uri": "https://localhost:8080/",
          "height": 129
        },
        "id": "l20JpvVtlL_k",
        "outputId": "2a505e91-ea10-4952-8179-c9d6d10b4eb1"
      },
      "source": [
        "setwd(\"/content/drive/MyDrive/Telerilevamento/lab\")\n",
        "p224r63_2011 <- brick(\"p224r63_2011_masked.grd\")\n",
        "p224r63_2011"
      ],
      "execution_count": 17,
      "outputs": [
        {
          "output_type": "error",
          "ename": "ERROR",
          "evalue": "ignored",
          "traceback": [
            "Error in setwd(\"/content/drive/MyDrive/Telerilevamento/lab\"): cannot change working directory\nTraceback:\n",
            "1. setwd(\"/content/drive/MyDrive/Telerilevamento/lab\")"
          ]
        }
      ]
    },
    {
      "cell_type": "code",
      "metadata": {
        "colab": {
          "base_uri": "https://localhost:8080/",
          "height": 418
        },
        "id": "tsn3w1Y8cYfZ",
        "outputId": "a83dc8e9-e708-41d3-baa7-8f892bf652b8"
      },
      "source": [
        "plot(p224r63_2011)"
      ],
      "execution_count": 19,
      "outputs": [
        {
          "output_type": "error",
          "ename": "ERROR",
          "evalue": "ignored",
          "traceback": [
            "Error in result[, i] <- readBin(raster@file@con, what = dtype, n = ncols, : replacement has length zero\nTraceback:\n",
            "1. plot(p224r63_2011)",
            "2. plot(p224r63_2011)",
            "3. .local(x, y, ...)",
            "4. .plotraster2(obj, col = col, maxpixels = maxpixels, xaxt = xa, \n .     yaxt = ya, main = main[y[i]], ext = ext, interpolate = interpolate, \n .     colNA = colNA, addfun = addfun, alpha = alpha, ...)",
            "5. sampleRegular(object, size = maxpixels, ext = ext, asRaster = TRUE)",
            "6. sampleRegular(object, size = maxpixels, ext = ext, asRaster = TRUE)",
            "7. .local(x, size, ...)",
            "8. .cellValues(x, cell)",
            "9. .readCells(x, cells, 1)",
            "10. getValues(x)",
            "11. getValues(x)",
            "12. .local(x, ...)",
            "13. .readRasterLayerValues(x, 1, x@nrows)",
            "14. getBilData(object, r = startrow, nrows = nrows, c = startcol, \n  .     ncols = ncols, dtype = dtype, dsize = dsize, dsign = dsign, \n  .     band = band)"
          ]
        }
      ]
    },
    {
      "cell_type": "code",
      "metadata": {
        "id": "WeX7ecB0ck9j"
      },
      "source": [
        "# colour change\n",
        "cl <- colorRampPalette(c(\"black\",\"grey\",\"light grey\")) (100)\n",
        "plot(p224r63_2011, col=cl)"
      ],
      "execution_count": null,
      "outputs": []
    },
    {
      "cell_type": "code",
      "metadata": {
        "id": "X46MgX4JcsgE"
      },
      "source": [
        "# colour change -> new\n",
        "cl <- colorRampPalette(c(\"blue\",\"green\",\"grey\",\"red\",\"magenta\",\"yellow\")) (100)\n",
        "plot(p224r63_2011, col=cl)\n"
      ],
      "execution_count": null,
      "outputs": []
    },
    {
      "cell_type": "code",
      "metadata": {
        "id": "8OxhGrq4cym0"
      },
      "source": [
        "#### DAY 3\n",
        "# Bande Landsat\n",
        "# B1: blu\n",
        "# B2: verde\n",
        "# B3: rosso\n",
        "# B4: infrarosso vicino\n",
        "# B5: infrarosso medio\n",
        "# B6: infrarosso termico\n",
        "# B7: infrarosso medio\n",
        "# dev.off will clean the current graph\n",
        "# dev.off()\n",
        "plot(p224r63_2011$B1_sre)\n"
      ],
      "execution_count": null,
      "outputs": []
    },
    {
      "cell_type": "code",
      "metadata": {
        "id": "yot3bec_c1a3"
      },
      "source": [
        "cls <- colorRampPalette(c(\"red\",\"pink\",\"orange\",\"purple\")) (200)\n",
        "plot(p224r63_2011$B1_sre, col=cls)\n"
      ],
      "execution_count": null,
      "outputs": []
    },
    {
      "cell_type": "code",
      "metadata": {
        "id": "NCEuwEbSc45Q"
      },
      "source": [
        "plot(p224r63_2011$B1_sre)\n"
      ],
      "execution_count": null,
      "outputs": []
    },
    {
      "cell_type": "code",
      "metadata": {
        "id": "m1GG0WGNc9oU"
      },
      "source": [
        "plot(p224r63_2011$B2_sre)\n"
      ],
      "execution_count": null,
      "outputs": []
    },
    {
      "cell_type": "code",
      "metadata": {
        "id": "knOFrWUVdAip"
      },
      "source": [
        "# 1 row, 2 columns\n",
        "par(mfrow=c(1,2))\n",
        "plot(p224r63_2011$B1_sre)\n",
        "plot(p224r63_2011$B2_sre)\n"
      ],
      "execution_count": null,
      "outputs": []
    },
    {
      "cell_type": "code",
      "metadata": {
        "id": "H9jXvr5udD_R"
      },
      "source": [
        "# 2 row, 1 columns\n",
        "par(mfrow=c(2,1)) # if you are using columns first: par(mfcol....)\n",
        "plot(p224r63_2011$B1_sre)\n",
        "plot(p224r63_2011$B2_sre)\n"
      ],
      "execution_count": null,
      "outputs": []
    },
    {
      "cell_type": "code",
      "metadata": {
        "id": "MtC5EoUgdHgY"
      },
      "source": [
        "# plot the first four bands of Landsat\n",
        "par(mfrow=c(4,1))\n",
        "plot(p224r63_2011$B1_sre)\n",
        "plot(p224r63_2011$B2_sre)\n",
        "plot(p224r63_2011$B3_sre)\n",
        "plot(p224r63_2011$B4_sre)"
      ],
      "execution_count": null,
      "outputs": []
    },
    {
      "cell_type": "code",
      "metadata": {
        "id": "IyjhP2qxdKXF"
      },
      "source": [
        "# a quadrat of bands...:\n",
        "par(mfrow=c(2,2))\n",
        "plot(p224r63_2011$B1_sre)\n",
        "plot(p224r63_2011$B2_sre)\n",
        "plot(p224r63_2011$B3_sre)\n",
        "plot(p224r63_2011$B4_sre)"
      ],
      "execution_count": null,
      "outputs": []
    },
    {
      "cell_type": "code",
      "metadata": {
        "id": "b1j5oayreVxI"
      },
      "source": [
        "# a quadrat of bands...:\n",
        "par(mfrow=c(2,2))\n",
        "clb <- colorRampPalette(c(\"dark blue\",\"blue\",\"light blue\")) (100)\n",
        "plot(p224r63_2011$B1_sre, col=clb)\n",
        "clg <- colorRampPalette(c(\"dark green\",\"green\",\"light green\")) (100)\n",
        "plot(p224r63_2011$B2_sre, col=clg)\n",
        "clr <- colorRampPalette(c(\"dark red\",\"red\",\"pink\")) (100)\n",
        "plot(p224r63_2011$B3_sre, col=clr)\n",
        "clnir <- colorRampPalette(c(\"red\",\"orange\",\"yellow\")) (100)\n",
        "plot(p224r63_2011$B4_sre, col=clnir)\n"
      ],
      "execution_count": null,
      "outputs": []
    },
    {
      "cell_type": "code",
      "metadata": {
        "id": "9Hl3F0-5eZHb"
      },
      "source": [
        "# Visualizing data by RGB plotting\n",
        "# Bande Landsat\n",
        "# B1: blu\n",
        "# B2: verde\n",
        "# B3: rosso\n",
        "# B4: infrarosso vicino\n",
        "# B5: infrarosso medio\n",
        "# B6: infrarosso termico\n",
        "# B7: infrarosso medio\n",
        "plotRGB(p224r63_2011, r=3, g=2, b=1, stretch=\"Lin\")\n",
        "plotRGB(p224r63_2011, r=4, g=3, b=2, stretch=\"Lin\")\n",
        "plotRGB(p224r63_2011, r=3, g=4, b=2, stretch=\"Lin\")\n",
        "plotRGB(p224r63_2011, r=3, g=2, b=4, stretch=\"Lin\")\n",
        "# Exercise: mount a 2x2 multiframe\n",
        "par(mfrow=c(2,2))\n",
        "plotRGB(p224r63_2011, r=3, g=2, b=1, stretch=\"Lin\")\n",
        "plotRGB(p224r63_2011, r=4, g=3, b=2, stretch=\"Lin\")\n",
        "plotRGB(p224r63_2011, r=3, g=4, b=2, stretch=\"Lin\")\n",
        "plotRGB(p224r63_2011, r=3, g=2, b=4, stretch=\"Lin\")\n"
      ],
      "execution_count": null,
      "outputs": []
    },
    {
      "cell_type": "code",
      "metadata": {
        "id": "eIHVPwkCecQ5"
      },
      "source": [
        "# pdf(\"il_mio_primo_pdf_con_R.pdf\")\n",
        "# par(mfrow=c(2,2))\n",
        "# plotRGB(p224r63_2011, r=3, g=2, b=1, stretch=\"Lin\")\n",
        "# plotRGB(p224r63_2011, r=4, g=3, b=2, stretch=\"Lin\")\n",
        "# plotRGB(p224r63_2011, r=3, g=4, b=2, stretch=\"Lin\")\n",
        "# plotRGB(p224r63_2011, r=3, g=2, b=4, stretch=\"Lin\")\n",
        "# dev.off()\n",
        "plotRGB(p224r63_2011, r=3, g=4, b=2, stretch=\"Lin\")\n",
        "plotRGB(p224r63_2011, r=3, g=4, b=2, stretch=\"hist\")\n",
        "# par natural colours, flase colours, and false colours with histogram stretching\n",
        "par(mfrow=c(3,1))\n"
      ],
      "execution_count": null,
      "outputs": []
    },
    {
      "cell_type": "code",
      "metadata": {
        "id": "8ChQbLmIefSe"
      },
      "source": [
        "plotRGB(p224r63_2011, r=3, g=2, b=1, stretch=\"Lin\")\n",
        "plotRGB(p224r63_2011, r=3, g=4, b=2, stretch=\"Lin\")\n",
        "plotRGB(p224r63_2011, r=3, g=4, b=2, stretch=\"hist\")\n"
      ],
      "execution_count": null,
      "outputs": []
    },
    {
      "cell_type": "code",
      "metadata": {
        "id": "jLxFKkPhej1V"
      },
      "source": [
        "sessionInfo()"
      ],
      "execution_count": null,
      "outputs": []
    }
  ]
}