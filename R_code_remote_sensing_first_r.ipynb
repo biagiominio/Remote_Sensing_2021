{
  "nbformat": 4,
  "nbformat_minor": 0,
  "metadata": {
    "colab": {
      "name": "MoD.r",
      "provenance": [],
      "collapsed_sections": []
    },
    "kernelspec": {
      "name": "ir",
      "display_name": "R"
    }
  },
  "cells": [
    {
      "cell_type": "markdown",
      "metadata": {
        "id": "S32LTQVpIUKH"
      },
      "source": [
        "<table class=\"ee-notebook-buttons\" align=\"left\"><td>\n",
        "<a target=\"_blank\"  href=\"https://colab.research.google.com/github/biagiominio/telerilevamento_2021/blob/main/MoD_r.ipynb#scrollTo=S32LTQVpIUKH\">\n",
        "    <img src=\"https://www.tensorflow.org/images/colab_logo_32px.png\" /> Run in Google Colab</a>\n",
        "</td><td>\n",
        "<a target=\"_blank\"  href=\"https://github.com/biagiominio/telerilevamento_2021/blob/main/MoD_r.ipynb\"><img width=32px src=\"https://www.tensorflow.org/images/GitHub-Mark-32px.png\" /> View source on GitHub</a></td></table>"
      ]
    },
    {
      "cell_type": "code",
      "metadata": {
        "id": "FntZ_AJvOyPj",
        "cellView": "form"
      },
      "source": [
        "#@title **Install rgee dependencies**\n",
        "system('sudo add-apt-repository ppa:ubuntugis/ubuntugis-unstable')\n",
        "system('sudo apt-get update')\n",
        "system('sudo apt-get install libudunits2-dev libgdal-dev libgeos-dev libproj-dev')\n",
        "system('sudo apt-get install libprotobuf-dev protobuf-compiler libv8-dev libjq-dev')\n",
        "install.packages('sf')\n",
        "install.packages('mapview')\n",
        "install.packages('cptcity')\n",
        "install.packages('geojsonio')\n",
        "remotes::install_github(\"r-spatial/rgee\")"
      ],
      "execution_count": null,
      "outputs": []
    },
    {
      "cell_type": "code",
      "metadata": {
        "id": "vtVUbQ6zKHA2"
      },
      "source": [
        "library(rgee)\n",
        "ee_Initialize(display = TRUE)"
      ],
      "execution_count": null,
      "outputs": []
    },
    {
      "cell_type": "code",
      "metadata": {
        "id": "vBWwF0IDyPIR"
      },
      "source": [
        "library(sf)\n",
        "library(cptcity)\n",
        "library(mapview)"
      ],
      "execution_count": null,
      "outputs": []
    },
    {
      "cell_type": "code",
      "metadata": {
        "id": "fhm9bLh_pvw3"
      },
      "source": [
        "ita <- ee$FeatureCollection('USDOS/LSIB_SIMPLE/2017')$filter(ee$Filter$eq('country_na', 'Italy'))      "
      ],
      "execution_count": null,
      "outputs": []
    },
    {
      "cell_type": "code",
      "metadata": {
        "id": "izLnPQjIsC1d"
      },
      "source": [
        "region <- ita$geometry()$bounds()    "
      ],
      "execution_count": null,
      "outputs": []
    },
    {
      "cell_type": "markdown",
      "metadata": {
        "id": "GBlXbO00ogIH"
      },
      "source": [
        "Recupera il dataset MODIS Terra Vegetation Indices 16-Day Global 250m come un ee.ImageCollection e seleziona la banda EVI."
      ]
    },
    {
      "cell_type": "code",
      "metadata": {
        "id": "vIjpkoiFFBIw"
      },
      "source": [
        "col <- ee$ImageCollection('MODIS/006/MOD13Q1')$select('EVI')"
      ],
      "execution_count": null,
      "outputs": []
    },
    {
      "cell_type": "markdown",
      "metadata": {
        "id": "Rd-lQGdhqM7o"
      },
      "source": [
        "Raggruppa le immagini per data composta"
      ]
    },
    {
      "cell_type": "code",
      "metadata": {
        "id": "PLbkqOcgFDmP"
      },
      "source": [
        "col <- col$map(function(img) {\n",
        "  doy <- ee$Date(img$get('system:time_start'))$getRelative('day', 'year')\n",
        "  img$set('doy', doy)\n",
        "})\n",
        "distinctDOY <- col$filterDate('2010-01-01', '2011-01-01')"
      ],
      "execution_count": null,
      "outputs": []
    },
    {
      "cell_type": "code",
      "metadata": {
        "id": "7XiU06cuFIIb"
      },
      "source": [
        "filter <- ee$Filter$equals(leftField = 'doy', rightField = 'doy');"
      ],
      "execution_count": null,
      "outputs": []
    },
    {
      "cell_type": "code",
      "metadata": {
        "id": "YIxt-NG1FMbq"
      },
      "source": [
        "join <- ee$Join$saveAll('doy_matches')\n",
        "joinCol <- ee$ImageCollection(join$apply(distinctDOY, col, filter))"
      ],
      "execution_count": null,
      "outputs": []
    },
    {
      "cell_type": "code",
      "metadata": {
        "id": "rsQQnCTxFSgs"
      },
      "source": [
        "comp <- joinCol$map(function(img) {\n",
        "  doyCol = ee$ImageCollection$fromImages(\n",
        "    img$get('doy_matches')\n",
        "  )\n",
        "  doyCol$reduce(ee$Reducer$median())\n",
        "})\n"
      ],
      "execution_count": null,
      "outputs": []
    },
    {
      "cell_type": "code",
      "metadata": {
        "id": "Q8ptyerHFVsB"
      },
      "source": [
        "visParams = list(\n",
        "  min = 0.0,\n",
        "  max = 9000.0,\n",
        "  bands = \"EVI_median\",\n",
        "  palette = c(\n",
        "    'FFFFFF', 'CE7E45', 'DF923D', 'F1B555', 'FCD163', '99B718', '74A901',\n",
        "    '66A000', '529400', '3E8601', '207401', '056201', '004C00', '023B01',\n",
        "    '012E01', '011D01', '011301'\n",
        "    )\n",
        ")"
      ],
      "execution_count": null,
      "outputs": []
    },
    {
      "cell_type": "code",
      "metadata": {
        "id": "WXBXZ6ZaFX9J"
      },
      "source": [
        "rgbVis <- comp$map(function(img) {\n",
        "  do.call(img$visualize, visParams) %>% \n",
        "    ee$Image$clip(ita)\n",
        "})"
      ],
      "execution_count": null,
      "outputs": []
    },
    {
      "cell_type": "code",
      "metadata": {
        "id": "xss8twjxFaZ9"
      },
      "source": [
        "gifParams <- list(\n",
        "  region = region,\n",
        "  dimensions = 500,\n",
        "  crs = 'EPSG:3857',\n",
        "  framesPerSecond = 5\n",
        ")"
      ],
      "execution_count": null,
      "outputs": []
    },
    {
      "cell_type": "code",
      "metadata": {
        "id": "Ns3XOUluFdwZ"
      },
      "source": [
        "print(rgbVis$getVideoThumbURL(gifParams))\n",
        "browseURL(rgbVis$getVideoThumbURL(gifParams))"
      ],
      "execution_count": null,
      "outputs": []
    },
    {
      "cell_type": "code",
      "metadata": {
        "id": "YGpulBDqHuul"
      },
      "source": [
        "system(\"sudo apt-get install libmagick++-dev\", intern = TRUE)"
      ],
      "execution_count": null,
      "outputs": []
    },
    {
      "cell_type": "code",
      "metadata": {
        "id": "IEDrrurOh2SI"
      },
      "source": [
        "install.packages(\"magick\")"
      ],
      "execution_count": null,
      "outputs": []
    },
    {
      "cell_type": "code",
      "metadata": {
        "id": "wE7VPMmXpK5w"
      },
      "source": [
        "data_modis <- c('Jan', 'Jan',\n",
        "                'Feb', 'Feb',\n",
        "                'Mar', 'Mar',\n",
        "                'Apr', 'Apr',\n",
        "                'May', 'May',\n",
        "                'Jun', 'Jun',\n",
        "                'Jul', 'Jul',\n",
        "                'Aug', 'Aug',\n",
        "                'Sept', 'Sept',\n",
        "                'Oct',\n",
        "                'Nov', 'Nov',\n",
        "                'Dec', 'Dec')"
      ],
      "execution_count": null,
      "outputs": []
    },
    {
      "cell_type": "code",
      "metadata": {
        "id": "Zb192_9SRIFQ"
      },
      "source": [
        "data_modis <- c('January','January',\n",
        "                'February','February',\n",
        "                'March','March',\n",
        "                'April','April',\n",
        "                'May','May',\n",
        "                'June','June',\n",
        "                'June','June',\n",
        "                'August','August',\n",
        "                'September','September',\n",
        "                'October',\n",
        "                'November','November',\n",
        "                'December','December')"
      ],
      "execution_count": null,
      "outputs": []
    },
    {
      "cell_type": "code",
      "metadata": {
        "id": "RgEpxpmZyRdl"
      },
      "source": [
        "library(magick)\n",
        "animation <- ee_utils_gif_creator(rgbVis, gifParams, mode = \"wb\")\n",
        "animation %>% \n",
        "  ee_utils_gif_annotate(\n",
        "    text = \"EVI: MODIS/006/MOD13Q1\",\n",
        "    size = 13, color = \"white\",\n",
        "    location = \"+10+475\"\n",
        "  ) %>% \n",
        "  ee_utils_gif_annotate(\n",
        "    text = \"_____________________\", \n",
        "    size = 30, \n",
        "    location = \"+280+30\",\n",
        "    color = \"black\", \n",
        "    font = \"arial\",\n",
        "    kerning = 3,\n",
        "    weight = 400,\n",
        "    boxcolor = \"#000000\"\n",
        "  ) %>% \n",
        "  ee_utils_gif_annotate(\n",
        "    text = data_modis, \n",
        "    size = 25, \n",
        "    location = \"+280+30\",\n",
        "    color = \"white\", \n",
        "    font = \"arial\",\n",
        "    kerning = 0,\n",
        "    weight = 400,\n",
        "    boxcolor = \"#000000\"\n",
        "  ) #-> animation_wtxt  \n",
        "\n",
        "#ee_utils_gif_save(animation_wtxt, path = \"raster_as_ee.gif\")"
      ],
      "execution_count": null,
      "outputs": []
    }
  ]
}